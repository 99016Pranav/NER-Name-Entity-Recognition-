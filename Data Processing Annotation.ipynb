{
 "cells": [
  {
   "cell_type": "code",
   "execution_count": 1,
   "id": "a020199e-f578-4468-b282-7f7655501867",
   "metadata": {},
   "outputs": [],
   "source": [
    "import pandas as pd"
   ]
  },
  {
   "cell_type": "code",
   "execution_count": 2,
   "id": "4d140ee2-a57b-4a91-b62a-483f98310e4f",
   "metadata": {},
   "outputs": [],
   "source": [
    "from io import BytesIO\n",
    "import re"
   ]
  },
  {
   "cell_type": "code",
   "execution_count": 3,
   "id": "dced0001-f3a8-4cd4-843d-83031434abbb",
   "metadata": {},
   "outputs": [],
   "source": [
    "import pyarrow"
   ]
  },
  {
   "cell_type": "code",
   "execution_count": 4,
   "id": "146f27e9-125b-4a61-89cf-6f0dfcf03a35",
   "metadata": {},
   "outputs": [],
   "source": [
    "import nltk\n",
    "#nltk.download('punkt')"
   ]
  },
  {
   "cell_type": "code",
   "execution_count": 5,
   "id": "d6fad0f3-8b04-4b35-86bb-ee8c382b5f15",
   "metadata": {},
   "outputs": [],
   "source": [
    "dataset= pd.read_parquet(r\"C:\\Users\\pm307\\Downloads\\0000.parquet\")"
   ]
  },
  {
   "cell_type": "code",
   "execution_count": 6,
   "id": "6fbaf1f7-cf2d-48ca-bff5-cdaeeddb596c",
   "metadata": {},
   "outputs": [
    {
     "name": "stderr",
     "output_type": "stream",
     "text": [
      "\n",
      "KeyboardInterrupt\n",
      "\n"
     ]
    }
   ],
   "source": [
    "dataset2= pd.read_parquet(r\"C:\\Users\\pm307\\Downloads\\0001.parquet\")"
   ]
  },
  {
   "cell_type": "code",
   "execution_count": null,
   "id": "215a13c7-1913-43a2-91cb-d9e70cc76e46",
   "metadata": {},
   "outputs": [],
   "source": [
    "dataset2.count()"
   ]
  },
  {
   "cell_type": "code",
   "execution_count": 29,
   "id": "01e9ae4e-93d3-49a4-bfea-d96f7bf9508d",
   "metadata": {},
   "outputs": [],
   "source": [
    "combinedataset=pd.concat([dataset,dataset2])"
   ]
  },
  {
   "cell_type": "code",
   "execution_count": 31,
   "id": "6c50b7b2-bba7-4909-8a75-bdc445fb42e1",
   "metadata": {},
   "outputs": [
    {
     "data": {
      "text/plain": [
       "(11970, 10)"
      ]
     },
     "execution_count": 31,
     "metadata": {},
     "output_type": "execute_result"
    }
   ],
   "source": [
    "combinedataset.shape"
   ]
  },
  {
   "cell_type": "code",
   "execution_count": 33,
   "id": "835a22d7-dcd3-4654-94f2-f8e8e6d78376",
   "metadata": {},
   "outputs": [
    {
     "data": {
      "text/html": [
       "<div>\n",
       "<style scoped>\n",
       "    .dataframe tbody tr th:only-of-type {\n",
       "        vertical-align: middle;\n",
       "    }\n",
       "\n",
       "    .dataframe tbody tr th {\n",
       "        vertical-align: top;\n",
       "    }\n",
       "\n",
       "    .dataframe thead th {\n",
       "        text-align: right;\n",
       "    }\n",
       "</style>\n",
       "<table border=\"1\" class=\"dataframe\">\n",
       "  <thead>\n",
       "    <tr style=\"text-align: right;\">\n",
       "      <th></th>\n",
       "      <th>Titles</th>\n",
       "      <th>Court_Name</th>\n",
       "      <th>Cites</th>\n",
       "      <th>Cited_by</th>\n",
       "      <th>Doc_url</th>\n",
       "      <th>Text</th>\n",
       "      <th>Doc_size</th>\n",
       "      <th>Case_Type</th>\n",
       "      <th>Court_Type</th>\n",
       "      <th>Court_Name_Normalized</th>\n",
       "    </tr>\n",
       "  </thead>\n",
       "  <tbody>\n",
       "    <tr>\n",
       "      <th>0</th>\n",
       "      <td>Maheshwar Mandal &amp; Anr vs The State Of Bihar &amp;...</td>\n",
       "      <td>Patna High Court - Orders</td>\n",
       "      <td>5</td>\n",
       "      <td>9</td>\n",
       "      <td>https://indiankanoon.org/doc/154031036/</td>\n",
       "      <td>IN THE HIGH COURT OF JUDICATURE AT PATNA\\n    ...</td>\n",
       "      <td>40125</td>\n",
       "      <td>Land&amp;Property</td>\n",
       "      <td>High_Court</td>\n",
       "      <td>Patna High Court</td>\n",
       "    </tr>\n",
       "    <tr>\n",
       "      <th>1</th>\n",
       "      <td>Sri Ashok Goenka &amp; Anr vs Chandra Bhushan Sing...</td>\n",
       "      <td>Patna High Court - Orders</td>\n",
       "      <td>13</td>\n",
       "      <td>6</td>\n",
       "      <td>https://indiankanoon.org/doc/44290554/</td>\n",
       "      <td>IN THE HIGH COURT OF JUDICATURE AT PATNA\\n    ...</td>\n",
       "      <td>24428</td>\n",
       "      <td>Land&amp;Property</td>\n",
       "      <td>High_Court</td>\n",
       "      <td>Patna High Court</td>\n",
       "    </tr>\n",
       "    <tr>\n",
       "      <th>2</th>\n",
       "      <td>Mt.Prabhawati &amp; Ors vs The State Of Bihar &amp; Or...</td>\n",
       "      <td>Patna High Court - Orders</td>\n",
       "      <td>11</td>\n",
       "      <td>2</td>\n",
       "      <td>https://indiankanoon.org/doc/814453/</td>\n",
       "      <td>IN THE HIGH COURT OF JUDICATURE AT PATNA\\n    ...</td>\n",
       "      <td>27844</td>\n",
       "      <td>Land&amp;Property</td>\n",
       "      <td>High_Court</td>\n",
       "      <td>Patna High Court</td>\n",
       "    </tr>\n",
       "    <tr>\n",
       "      <th>3</th>\n",
       "      <td>Md. Nizamuddin vs The State Of Bihar &amp; Ors on ...</td>\n",
       "      <td>Patna High Court - Orders</td>\n",
       "      <td>39</td>\n",
       "      <td>1</td>\n",
       "      <td>https://indiankanoon.org/doc/173691638/</td>\n",
       "      <td>IN THE HIGH COURT OF JUDICATURE AT PATNA\\n    ...</td>\n",
       "      <td>104812</td>\n",
       "      <td>Land&amp;Property</td>\n",
       "      <td>High_Court</td>\n",
       "      <td>Patna High Court</td>\n",
       "    </tr>\n",
       "    <tr>\n",
       "      <th>4</th>\n",
       "      <td>Vodafone Essar Spacetel Ltd.&amp;A vs The State Of...</td>\n",
       "      <td>Patna High Court - Orders</td>\n",
       "      <td>12</td>\n",
       "      <td>1</td>\n",
       "      <td>https://indiankanoon.org/doc/198757445/</td>\n",
       "      <td>IN THE HIGH COURT OF JUDICATURE AT PATNA\\n    ...</td>\n",
       "      <td>30586</td>\n",
       "      <td>Land&amp;Property</td>\n",
       "      <td>High_Court</td>\n",
       "      <td>Patna High Court</td>\n",
       "    </tr>\n",
       "  </tbody>\n",
       "</table>\n",
       "</div>"
      ],
      "text/plain": [
       "                                              Titles  \\\n",
       "0  Maheshwar Mandal & Anr vs The State Of Bihar &...   \n",
       "1  Sri Ashok Goenka & Anr vs Chandra Bhushan Sing...   \n",
       "2  Mt.Prabhawati & Ors vs The State Of Bihar & Or...   \n",
       "3  Md. Nizamuddin vs The State Of Bihar & Ors on ...   \n",
       "4  Vodafone Essar Spacetel Ltd.&A vs The State Of...   \n",
       "\n",
       "                  Court_Name  Cites  Cited_by  \\\n",
       "0  Patna High Court - Orders      5         9   \n",
       "1  Patna High Court - Orders     13         6   \n",
       "2  Patna High Court - Orders     11         2   \n",
       "3  Patna High Court - Orders     39         1   \n",
       "4  Patna High Court - Orders     12         1   \n",
       "\n",
       "                                   Doc_url  \\\n",
       "0  https://indiankanoon.org/doc/154031036/   \n",
       "1   https://indiankanoon.org/doc/44290554/   \n",
       "2     https://indiankanoon.org/doc/814453/   \n",
       "3  https://indiankanoon.org/doc/173691638/   \n",
       "4  https://indiankanoon.org/doc/198757445/   \n",
       "\n",
       "                                                Text  Doc_size      Case_Type  \\\n",
       "0  IN THE HIGH COURT OF JUDICATURE AT PATNA\\n    ...     40125  Land&Property   \n",
       "1  IN THE HIGH COURT OF JUDICATURE AT PATNA\\n    ...     24428  Land&Property   \n",
       "2  IN THE HIGH COURT OF JUDICATURE AT PATNA\\n    ...     27844  Land&Property   \n",
       "3  IN THE HIGH COURT OF JUDICATURE AT PATNA\\n    ...    104812  Land&Property   \n",
       "4  IN THE HIGH COURT OF JUDICATURE AT PATNA\\n    ...     30586  Land&Property   \n",
       "\n",
       "   Court_Type Court_Name_Normalized  \n",
       "0  High_Court      Patna High Court  \n",
       "1  High_Court      Patna High Court  \n",
       "2  High_Court      Patna High Court  \n",
       "3  High_Court      Patna High Court  \n",
       "4  High_Court      Patna High Court  "
      ]
     },
     "execution_count": 33,
     "metadata": {},
     "output_type": "execute_result"
    }
   ],
   "source": [
    "combinedataset.head()"
   ]
  },
  {
   "cell_type": "code",
   "execution_count": 35,
   "id": "0fcb62c4-71a0-4019-9e98-181ae7105e4e",
   "metadata": {},
   "outputs": [],
   "source": [
    "### Converting document to plain text"
   ]
  },
  {
   "cell_type": "code",
   "execution_count": 37,
   "id": "162c544f-8453-42f3-88e8-f96d89b9e749",
   "metadata": {},
   "outputs": [
    {
     "data": {
      "text/plain": [
       "['Case_Type',\n",
       " 'Cited_by',\n",
       " 'Cites',\n",
       " 'Court_Name',\n",
       " 'Court_Name_Normalized',\n",
       " 'Court_Type',\n",
       " 'Doc_size',\n",
       " 'Doc_url',\n",
       " 'T',\n",
       " 'Text',\n",
       " 'Titles',\n",
       " '_AXIS_LEN',\n",
       " '_AXIS_ORDERS',\n",
       " '_AXIS_TO_AXIS_NUMBER',\n",
       " '_HANDLED_TYPES',\n",
       " '__abs__',\n",
       " '__add__',\n",
       " '__and__',\n",
       " '__annotations__',\n",
       " '__array__',\n",
       " '__array_priority__',\n",
       " '__array_ufunc__',\n",
       " '__arrow_c_stream__',\n",
       " '__bool__',\n",
       " '__class__',\n",
       " '__contains__',\n",
       " '__copy__',\n",
       " '__dataframe__',\n",
       " '__dataframe_consortium_standard__',\n",
       " '__deepcopy__',\n",
       " '__delattr__',\n",
       " '__delitem__',\n",
       " '__dict__',\n",
       " '__dir__',\n",
       " '__divmod__',\n",
       " '__doc__',\n",
       " '__eq__',\n",
       " '__finalize__',\n",
       " '__floordiv__',\n",
       " '__format__',\n",
       " '__ge__',\n",
       " '__getattr__',\n",
       " '__getattribute__',\n",
       " '__getitem__',\n",
       " '__getstate__',\n",
       " '__gt__',\n",
       " '__hash__',\n",
       " '__iadd__',\n",
       " '__iand__',\n",
       " '__ifloordiv__',\n",
       " '__imod__',\n",
       " '__imul__',\n",
       " '__init__',\n",
       " '__init_subclass__',\n",
       " '__invert__',\n",
       " '__ior__',\n",
       " '__ipow__',\n",
       " '__isub__',\n",
       " '__iter__',\n",
       " '__itruediv__',\n",
       " '__ixor__',\n",
       " '__le__',\n",
       " '__len__',\n",
       " '__lt__',\n",
       " '__matmul__',\n",
       " '__mod__',\n",
       " '__module__',\n",
       " '__mul__',\n",
       " '__ne__',\n",
       " '__neg__',\n",
       " '__new__',\n",
       " '__nonzero__',\n",
       " '__or__',\n",
       " '__pandas_priority__',\n",
       " '__pos__',\n",
       " '__pow__',\n",
       " '__radd__',\n",
       " '__rand__',\n",
       " '__rdivmod__',\n",
       " '__reduce__',\n",
       " '__reduce_ex__',\n",
       " '__repr__',\n",
       " '__rfloordiv__',\n",
       " '__rmatmul__',\n",
       " '__rmod__',\n",
       " '__rmul__',\n",
       " '__ror__',\n",
       " '__round__',\n",
       " '__rpow__',\n",
       " '__rsub__',\n",
       " '__rtruediv__',\n",
       " '__rxor__',\n",
       " '__setattr__',\n",
       " '__setitem__',\n",
       " '__setstate__',\n",
       " '__sizeof__',\n",
       " '__str__',\n",
       " '__sub__',\n",
       " '__subclasshook__',\n",
       " '__truediv__',\n",
       " '__weakref__',\n",
       " '__xor__',\n",
       " '_accessors',\n",
       " '_accum_func',\n",
       " '_agg_examples_doc',\n",
       " '_agg_see_also_doc',\n",
       " '_align_for_op',\n",
       " '_align_frame',\n",
       " '_align_series',\n",
       " '_append',\n",
       " '_arith_method',\n",
       " '_arith_method_with_reindex',\n",
       " '_as_manager',\n",
       " '_attrs',\n",
       " '_box_col_values',\n",
       " '_can_fast_transpose',\n",
       " '_check_inplace_and_allows_duplicate_labels',\n",
       " '_check_is_chained_assignment_possible',\n",
       " '_check_label_or_level_ambiguity',\n",
       " '_check_setitem_copy',\n",
       " '_clear_item_cache',\n",
       " '_clip_with_one_bound',\n",
       " '_clip_with_scalar',\n",
       " '_cmp_method',\n",
       " '_combine_frame',\n",
       " '_consolidate',\n",
       " '_consolidate_inplace',\n",
       " '_construct_axes_dict',\n",
       " '_construct_result',\n",
       " '_constructor',\n",
       " '_constructor_from_mgr',\n",
       " '_constructor_sliced',\n",
       " '_constructor_sliced_from_mgr',\n",
       " '_create_data_for_split_and_tight_to_dict',\n",
       " '_data',\n",
       " '_deprecate_downcast',\n",
       " '_dir_additions',\n",
       " '_dir_deletions',\n",
       " '_dispatch_frame_op',\n",
       " '_drop_axis',\n",
       " '_drop_labels_or_levels',\n",
       " '_ensure_valid_index',\n",
       " '_find_valid_index',\n",
       " '_flags',\n",
       " '_flex_arith_method',\n",
       " '_flex_cmp_method',\n",
       " '_from_arrays',\n",
       " '_from_mgr',\n",
       " '_get_agg_axis',\n",
       " '_get_axis',\n",
       " '_get_axis_name',\n",
       " '_get_axis_number',\n",
       " '_get_axis_resolvers',\n",
       " '_get_block_manager_axis',\n",
       " '_get_bool_data',\n",
       " '_get_cleaned_column_resolvers',\n",
       " '_get_column_array',\n",
       " '_get_index_resolvers',\n",
       " '_get_item_cache',\n",
       " '_get_label_or_level_values',\n",
       " '_get_numeric_data',\n",
       " '_get_value',\n",
       " '_get_values_for_csv',\n",
       " '_getitem_bool_array',\n",
       " '_getitem_multilevel',\n",
       " '_getitem_nocopy',\n",
       " '_getitem_slice',\n",
       " '_gotitem',\n",
       " '_hidden_attrs',\n",
       " '_indexed_same',\n",
       " '_info_axis',\n",
       " '_info_axis_name',\n",
       " '_info_axis_number',\n",
       " '_info_repr',\n",
       " '_init_mgr',\n",
       " '_inplace_method',\n",
       " '_internal_names',\n",
       " '_internal_names_set',\n",
       " '_is_copy',\n",
       " '_is_homogeneous_type',\n",
       " '_is_label_or_level_reference',\n",
       " '_is_label_reference',\n",
       " '_is_level_reference',\n",
       " '_is_mixed_type',\n",
       " '_is_view',\n",
       " '_is_view_after_cow_rules',\n",
       " '_iset_item',\n",
       " '_iset_item_mgr',\n",
       " '_iset_not_inplace',\n",
       " '_item_cache',\n",
       " '_iter_column_arrays',\n",
       " '_ixs',\n",
       " '_logical_func',\n",
       " '_logical_method',\n",
       " '_maybe_align_series_as_frame',\n",
       " '_maybe_cache_changed',\n",
       " '_maybe_update_cacher',\n",
       " '_metadata',\n",
       " '_mgr',\n",
       " '_min_count_stat_function',\n",
       " '_needs_reindex_multi',\n",
       " '_pad_or_backfill',\n",
       " '_protect_consolidate',\n",
       " '_reduce',\n",
       " '_reduce_axis1',\n",
       " '_reindex_axes',\n",
       " '_reindex_multi',\n",
       " '_reindex_with_indexers',\n",
       " '_rename',\n",
       " '_replace_columnwise',\n",
       " '_repr_data_resource_',\n",
       " '_repr_fits_horizontal_',\n",
       " '_repr_fits_vertical_',\n",
       " '_repr_html_',\n",
       " '_repr_latex_',\n",
       " '_reset_cache',\n",
       " '_reset_cacher',\n",
       " '_sanitize_column',\n",
       " '_series',\n",
       " '_set_axis',\n",
       " '_set_axis_name',\n",
       " '_set_axis_nocheck',\n",
       " '_set_is_copy',\n",
       " '_set_item',\n",
       " '_set_item_frame_value',\n",
       " '_set_item_mgr',\n",
       " '_set_value',\n",
       " '_setitem_array',\n",
       " '_setitem_frame',\n",
       " '_setitem_slice',\n",
       " '_shift_with_freq',\n",
       " '_should_reindex_frame_op',\n",
       " '_slice',\n",
       " '_stat_function',\n",
       " '_stat_function_ddof',\n",
       " '_take_with_is_copy',\n",
       " '_to_dict_of_blocks',\n",
       " '_to_latex_via_styler',\n",
       " '_typ',\n",
       " '_update_inplace',\n",
       " '_validate_dtype',\n",
       " '_values',\n",
       " '_where',\n",
       " 'abs',\n",
       " 'add',\n",
       " 'add_prefix',\n",
       " 'add_suffix',\n",
       " 'agg',\n",
       " 'aggregate',\n",
       " 'align',\n",
       " 'all',\n",
       " 'any',\n",
       " 'apply',\n",
       " 'applymap',\n",
       " 'asfreq',\n",
       " 'asof',\n",
       " 'assign',\n",
       " 'astype',\n",
       " 'at',\n",
       " 'at_time',\n",
       " 'attrs',\n",
       " 'axes',\n",
       " 'backfill',\n",
       " 'between_time',\n",
       " 'bfill',\n",
       " 'bool',\n",
       " 'boxplot',\n",
       " 'clip',\n",
       " 'columns',\n",
       " 'combine',\n",
       " 'combine_first',\n",
       " 'compare',\n",
       " 'convert_dtypes',\n",
       " 'copy',\n",
       " 'corr',\n",
       " 'corrwith',\n",
       " 'count',\n",
       " 'cov',\n",
       " 'cummax',\n",
       " 'cummin',\n",
       " 'cumprod',\n",
       " 'cumsum',\n",
       " 'describe',\n",
       " 'diff',\n",
       " 'div',\n",
       " 'divide',\n",
       " 'dot',\n",
       " 'drop',\n",
       " 'drop_duplicates',\n",
       " 'droplevel',\n",
       " 'dropna',\n",
       " 'dtypes',\n",
       " 'duplicated',\n",
       " 'empty',\n",
       " 'eq',\n",
       " 'equals',\n",
       " 'eval',\n",
       " 'ewm',\n",
       " 'expanding',\n",
       " 'explode',\n",
       " 'ffill',\n",
       " 'fillna',\n",
       " 'filter',\n",
       " 'first',\n",
       " 'first_valid_index',\n",
       " 'flags',\n",
       " 'floordiv',\n",
       " 'from_dict',\n",
       " 'from_records',\n",
       " 'ge',\n",
       " 'get',\n",
       " 'groupby',\n",
       " 'gt',\n",
       " 'head',\n",
       " 'hist',\n",
       " 'iat',\n",
       " 'idxmax',\n",
       " 'idxmin',\n",
       " 'iloc',\n",
       " 'index',\n",
       " 'infer_objects',\n",
       " 'info',\n",
       " 'insert',\n",
       " 'interpolate',\n",
       " 'isetitem',\n",
       " 'isin',\n",
       " 'isna',\n",
       " 'isnull',\n",
       " 'items',\n",
       " 'iterrows',\n",
       " 'itertuples',\n",
       " 'join',\n",
       " 'keys',\n",
       " 'kurt',\n",
       " 'kurtosis',\n",
       " 'last',\n",
       " 'last_valid_index',\n",
       " 'le',\n",
       " 'loc',\n",
       " 'lt',\n",
       " 'map',\n",
       " 'mask',\n",
       " 'max',\n",
       " 'mean',\n",
       " 'median',\n",
       " 'melt',\n",
       " 'memory_usage',\n",
       " 'merge',\n",
       " 'min',\n",
       " 'mod',\n",
       " 'mode',\n",
       " 'mul',\n",
       " 'multiply',\n",
       " 'ndim',\n",
       " 'ne',\n",
       " 'nlargest',\n",
       " 'notna',\n",
       " 'notnull',\n",
       " 'nsmallest',\n",
       " 'nunique',\n",
       " 'pad',\n",
       " 'pct_change',\n",
       " 'pipe',\n",
       " 'pivot',\n",
       " 'pivot_table',\n",
       " 'plot',\n",
       " 'pop',\n",
       " 'pow',\n",
       " 'prod',\n",
       " 'product',\n",
       " 'quantile',\n",
       " 'query',\n",
       " 'radd',\n",
       " 'rank',\n",
       " 'rdiv',\n",
       " 'reindex',\n",
       " 'reindex_like',\n",
       " 'rename',\n",
       " 'rename_axis',\n",
       " 'reorder_levels',\n",
       " 'replace',\n",
       " 'resample',\n",
       " 'reset_index',\n",
       " 'rfloordiv',\n",
       " 'rmod',\n",
       " 'rmul',\n",
       " 'rolling',\n",
       " 'round',\n",
       " 'rpow',\n",
       " 'rsub',\n",
       " 'rtruediv',\n",
       " 'sample',\n",
       " 'select_dtypes',\n",
       " 'sem',\n",
       " 'set_axis',\n",
       " 'set_flags',\n",
       " 'set_index',\n",
       " 'shape',\n",
       " 'shift',\n",
       " 'size',\n",
       " 'skew',\n",
       " 'sort_index',\n",
       " 'sort_values',\n",
       " 'squeeze',\n",
       " 'stack',\n",
       " 'std',\n",
       " 'style',\n",
       " 'sub',\n",
       " 'subtract',\n",
       " 'sum',\n",
       " 'swapaxes',\n",
       " 'swaplevel',\n",
       " 'tail',\n",
       " 'take',\n",
       " 'to_clipboard',\n",
       " 'to_csv',\n",
       " 'to_dict',\n",
       " 'to_excel',\n",
       " 'to_feather',\n",
       " 'to_gbq',\n",
       " 'to_hdf',\n",
       " 'to_html',\n",
       " 'to_json',\n",
       " 'to_latex',\n",
       " 'to_markdown',\n",
       " 'to_numpy',\n",
       " 'to_orc',\n",
       " 'to_parquet',\n",
       " 'to_period',\n",
       " 'to_pickle',\n",
       " 'to_records',\n",
       " 'to_sql',\n",
       " 'to_stata',\n",
       " 'to_string',\n",
       " 'to_timestamp',\n",
       " 'to_xarray',\n",
       " 'to_xml',\n",
       " 'transform',\n",
       " 'transpose',\n",
       " 'truediv',\n",
       " 'truncate',\n",
       " 'tz_convert',\n",
       " 'tz_localize',\n",
       " 'unstack',\n",
       " 'update',\n",
       " 'value_counts',\n",
       " 'values',\n",
       " 'var',\n",
       " 'where',\n",
       " 'xs']"
      ]
     },
     "execution_count": 37,
     "metadata": {},
     "output_type": "execute_result"
    }
   ],
   "source": [
    "dir(combinedataset)"
   ]
  },
  {
   "cell_type": "code",
   "execution_count": 39,
   "id": "c1a8aafc-be3c-48c7-97a6-5254a987be8e",
   "metadata": {},
   "outputs": [],
   "source": [
    "combinedataset.to_csv(r\"C:\\Users\\pm307\\Desktop\\NLP\\dataset\\nerdataset.csv\", index=False)"
   ]
  },
  {
   "cell_type": "code",
   "execution_count": 5,
   "id": "8fece23f-ca06-4be5-b21a-7297fbbb3924",
   "metadata": {},
   "outputs": [],
   "source": [
    "combinedataset=pd.read_csv(r\"C:\\Users\\pm307\\Desktop\\NLP\\dataset\\nerdataset.csv\")"
   ]
  },
  {
   "cell_type": "code",
   "execution_count": 7,
   "id": "68303204-f84a-4c8a-9988-14d4f36e933f",
   "metadata": {},
   "outputs": [],
   "source": [
    "string=combinedataset['Text'].values[0]"
   ]
  },
  {
   "cell_type": "code",
   "execution_count": 15,
   "id": "ee6813fd-f223-49b1-bd7c-689c45bfa187",
   "metadata": {},
   "outputs": [
    {
     "data": {
      "text/plain": [
       "'IN THE HIGH COURT OF JUDICATURE AT PATNA\\n                  Civil Writ Jurisdiction Case No.1091 of 2013\\n                                        With\\n                      Interlocutory Application No. 1572 of 2013\\n                                         In\\n                  Civil Writ Jurisdiction Case No. 1091 of 2013\\n===========================================================\\n1. Maheshwar Mandal S/O Late Bachchi Mandal\\n2. Sanjay Mandal S/O Maheshwar Mandal, both resident of Village Sahebganj, P.S., P.O. and Anchal- Narpatganj, Subdivision- Forbesganj, District Araria .... .... Petitioners Versus\\n1. The State of Bihar\\n2. Divisional Commissioner, Purnea\\n3. Land Reforms Deputy Collector, Forbesganj, Araria ..... ..... Respoondents 1st Party\\n4. Smt. Jashoda Devi, wife of Gosain Mandal, resident of Village Sahebganj, P.S., P.O. and Anchal- Narpatganj, Subdivision- Forbesganj, District Araria .... .... Respondent 2nd Party =========================================================== Appearance :\\nFor the Petitioners      :      Mr. Yogendra Mishra &\\n                                Mr. Uma Kant Tiwary,\\n                                Mr. Binod Kumar, Advocates\\nFor Respondent No. 4 :          Ms. Kumari Ritambhara, Advocate\\nFor the State            :      Mr. Lalit Kishore, PAAG with\\n                                Mr. Piyush Lall, AC to PAAG\\n                                Mr. Ram Kishore Singh, AC to AAG 7 &\\n                                Mr. Syed Hussain Majeed, AC to AAG 7\\n                                Ms. Shashi Priya Pathak, AC to AAG 7\\n=========================================================== <span class=\"hidden_text\" id=\"span_1\"> Patna High Court CWJC No.1091 of 2013 (12) dt. 24 .06.2014</span> CORAM: HONOURABLE THE CHIEF JUSTICE And HONOURABLE MR. JUSTICE ASHWANI KUMAR SINGH C.A.V JUDGMENT (Per: HONOURABLE THE CHIEF JUSTICE)\\n\\n12. 24.06.2014 This Petition under Article 226 of the Constitution has been filed by a father and the son Maheshwar Mandal and Sanjay Mandal to challenge the order dated 27th December 2011 made by the Competent Authority-cum-Deputy Collector Land Reforms, Forbesganj, Araria in B.L.D.R. Act Case No. 91 of 2011-12 in exercise of power conferred by the Bihar Land Disputes Resolution Act, 2009 (hereinafter referred to as \"the Act of 2009\"). The petitioners have also challenged the constitutional validity of the Act of 2009. \\n\\n One Jashoda Devi, the respondent no. 4, wife of one Gosai Mandal approached the Competent Authority under the Act of 2009 for a declaration that she is the owner of the disputed parcels of land (hereinafter referred to as \"the suit land\") and that she is entitled to the possession of the suit land. She complained that the petitioners herein had forcibly dispossessed her. She, therefore, be put in possession of the suit land. The case was contested by the writ petitioners. According to them, the suit land was part of the lands inherited by the petitioner no. 1 and his brothers from their father Bachchi Mandal. It was the ancestral property inherited from the original owner Babujan Mandal. The sons of Bachchi Mandal were the joint owners of the land. The plaintiff, Jashoda Devi was the wife of one of the brothers. She claimed title over the suit land through a sale purportedly made by the late Bachchi Mandal on 22nd December 1995. According to the <span class=\"hidden_text\" id=\"span_3\"> Patna High Court CWJC No.1091 of 2013 (12) dt. 24 .06.2014</span> petitioners, the said sale was later on cancelled on 29th February 1996. The land continued to be the joint property of the six brothers and was partitioned amongst them on 12th April 2009 under a partition deed. \\n\\n The Competent Authority-cum-Deputy Collector Land Reforms, Forbesganj (hereinafter referred to as \"the Competent Authority\") held that the deed of cancellation of sale was not a valid document and that the plaintiff, Jashoda Devi was the lawful owner of the suit land. In view of the said finding, the Competent Authority issued direction to the petitioners to handover possession of the disputed parcels of land to the plaintiff, Jashoda Devi, the respondent no. 4 herein. The said order of the Competent Authority has been confirmed by the Divisional Commissioner, Purnea Division, Purnea on 8th August 2012 in Land Dispute Appeal No. 69 of 2012. Therefore, this Petiton. \\n\\n Learned advocate Mr. Yogendra Mishra has appeared for the petitioners. He has assailed the provisions contained in the Act of 2009. He has submitted that the provisions contained in the Act of 2009 divest the Civil Court of its function of adjudicating the question of title over the land. The Act of 2009 also confers unfettered and unbridled power upon the Competent Authority. Mr. Mishra has strenuously urged that the State legislature has no authority to confer power upon the executive to adjudicate civil disputes which is traditionally conferred upon the Civil Court under the Code of Civil Procedure. In support of his submission, he has relied upon Section 9 of the Code of Civil Procedure and a Full Bench judgment of this Court in the matter of Nand Kumar Rai & Others Vs. State of Bihar & Others [AIR 1974 Patna 164]. \\n\\n The Petition is contested by the State Government. \\n\\n Learned advocate Mr. Ram Kishore Singh has appeared for the State Government. He has relied upon Entry 18 of the State List of Schedule VII to the Constitution of India, the Bihar Tenancy Act, 1885 and the judgment in the matter of Smt. Basmati Devi Vs. Smt. Anju Kumari [2012 (3) PLJR 214]. He, however, concedes that in the present case the Competent Authority has exceeded his jurisdiction. \\n\\n In view of challenge to the constitutional validity of the Act of 2009, we have heard learned Principal Additional Advocate General, Mr. Lalit Kishore on behalf of the State Government. Mr. Lalit Kishore has contested the challenge to the constitutional validity of the Act of 2009. He has taken us through the various provisions of the Act of 2009. He has submitted that the Act empowers the Competent Authority to enforce the rights conferred by or accrued under the six enactments mentioned in Schedule I to the Act of 2009. The power vested in the Competent Authority is, therefore, required to be read as confined to the enforcement of the rights conferred by or accrued under the aforesaid six enactments alone; and if so read, none of the provisions of the Act of 2009 can be said to be unconstitutional. Mr. Lalit Kishore has submitted that the petitioners have not challenged a particular provision/s of the Act of 2009, but the challenge is general and vague. He has submitted that unless the State legislature lacks the legislative competence to make the enactment, the enactment cannot be said to be unconstitutional. He has further submitted that to challenge any provision as unconstitutional one has to establish contravention of the provisions contained in the Constitution. In the present case it is not the case of the petitioners that any of the provisions contained in the Act of 2009 is unconstitutional in any manner. Mr. Lalit Kishore <span class=\"hidden_text\" id=\"span_7\"> Patna High Court CWJC No.1091 of 2013 (12) dt. 24 .06.2014</span> has next submitted that the provisions contained in the Act of 2009 are specific and unambiguous. Such provisions are required to be interpreted as they are. The rule of construction of legal provisions does permit reference to the preamble of the enactment, but no provision can be held to be ultra vires the preamble of the enactment. Mr. Lalit Kishore has meticulously taken us through each provision particularly Section 4 and various clauses under Sub-section (1) of Section 4 of the Act of 2009. \\n\\n In support of his submissions, Mr. Lalit Kishore has relied upon the judgments of the Hon‟ble Supreme Court in the matters of M/s Burrakur Coal Co. Ltd. Vs. The Union of India and Others {AIR 1961 Supreme Court 954, Mohan Lal Vs. Kartar Singh and Others {1995 Supp (4) Supreme Court Cases 684, Union of India Vs. Elphinstone Spinning and Weaving Co. Ltd. and Others {(2001)4 Supreme Court Cases 139} and Shiv Kumar Chadha Vs. Municipal Corporation of Delhi and Others {(1993) 3 Supreme Court Cases 161}. \\n\\n In the matter of M.s Burrakur Coal Co. Ltd. (supra) the very issue of interpretation of statute was the subject matter of consideration by the Constitutional Bench of the Hon‟ble Supreme Court. The Hon‟ble Court held, \"it is one of the cardinal principles of construction that where the language of an Act is clear, the preamble must be disregarded though, where the object or meaning of an enactment is not clear, the preamble may be resorted to explain it. ... We cannot, therefore, start with the preamble for construing the provisions of an Act, though, we would be justified in resorting to it, nay, we will be required to do so, if we find that the language used by Parliament is ambiguous or is too general though in point of <span class=\"hidden_text\" id=\"span_9\"> Patna High Court CWJC No.1091 of 2013 (12) dt. 24 .06.2014</span> fact Parliament intended that it should have a limited application.\" \\n\\n In the matter of Mohan Lal (supra) a similar provision for summary enquiry by collector was the subject matter of challenge before the Hon‟ble Supreme Court. The Hon‟ble Court observed, \"Though the enquiry is summary it is judicial in nature. .... Therefore, merely because the Collector acting under section 43 has to make a summary enquiry, it cannot be said that he can decide only simple questions as regards the nature of possession and not those questions which are complicated but have a bearing on the nature of possession.\" \\n\\n In the matter of Union of India (supra) challenge was directed to the Textile Undertakings (Taking Over of Management) Act, 1983. The Court observed, \"There is always a presumption that the legislature does not exceed its jurisdiction and the burden of establishing that the legislature has transgressed constitutional mandate, such as those relating to fundamental rights is always on the person who challenges its vires\". The Hon‟ble Court further held, \"The Court must therefore adjudge the constitutionality of such legislation by the generality of its provisions and not by its crudities or inequities or by the possibilities of abuse of any of its provisions.\" \\n\\n In the matter of Shiv Kumar Chadha (supra) challenge was against the bar imposed upon the Civil Court to entertain matters under the Delhi Municipal Corporation Act, 1957. \\n\\n Learned advocate Ms. Kumari Ritambhara has appeared for the respondent no. 4-plaintiff. She has supported the orders of the authorities below. \\n\\n True, the petitioners have not raised a specific challenge <span class=\"hidden_text\" id=\"span_11\"> Patna High Court CWJC No.1091 of 2013 (12) dt. 24 .06.2014</span> to a particular provision/s. The challenge to the constitutional validity of the Act of 2009 is too general and vague. The sole reliance is placed on the Full Bench judgment in the matter of Nand Kumar Rai & Others (supra). Mr. Yogendra Mishra appearing for the petitioners has failed to establish that any of the provisions of the Act of 2009 is unconstitutional; nor it is the plea of Mr. Mishra that the Act of 2009 has been enacted by the State legislature without the legislative competency. Nevertheless, I do feel that there are certain provisions in the Act of 2009 which, strictly speaking though are not unconstitutional, do require reading down. \\n\\n As the Act of 2009 is under challenge before us, we shall first examine the objects and reasons of the Act of 2009 and its provisions. \\n\\n The preamble of the Act of 2009 reads as under :-\\n \"WHEREAS, in the State of Bihar, disputes relating to record of rights, boundaries, entries in revenue records, unlawful occupation of raiyati land and forcible dispossession of allottees and settlees of public land, generate problems and cause unnecessary harassment to bona fide allotees/settlees, raiyats or occupants;\\n WHEREAS, such disputes with respect to raiyati land or public land allotted in favour of different classes of allottees are unnecessarily occupying major space of Civil Courts and Hon\\'ble High Court and which should otherwise have been resolved by the Revenue Authorities, who may be better equipped to deal with such disputes having regard to their continued presence in the field offices and their expertise in <span class=\"hidden_text\" id=\"span_13\"> Patna High Court CWJC No.1091 of 2013 (12) dt. 24 .06.2014</span> Revenue Administration, WHEREAS, in larger public interest it is deemed necessary to provide for effective and speedy mechanism to resolve such disputes which give rise to major turbulence if not addressed immediately and effectively;\\n AND, WHEREAS, it has been found in analysis of data relating to nature of disputes that they mostly appertain to matters connected with the Record of Rights, partition of jamabandi, forcible dispossession of allottees/raiyats, boundary disputes etc. and in this context, the administration of the following Acts is involved:\\n                  (1)     The Bihar Land Reforms Act, 1950,\\n                  (2)          The Bihar Tenancy Act, 1885,\\n                  (3)     The Bihar Privileged Persons Homestead Tenancy\\n                          Act, 1947,\\n                  (4)          The Bihar Bhoodan Yagna Act, 1954,\\n                  (5)      The Bihar Land Reforms (Fixation of Ceiling and\\n                          Acquisition of Surplus Land) Act, 1961,\\n (6) The Bihar Consolidation of Holdings and Prevention of Fragmentation Act, 1956, AND, WHEREAS, different forums and procedures have been provided for the resolution of disputes under the above referred Acts and it is considered expedient to provide a uniform and common forum, procedure and mechanism which would achieve the objective of effective, efficacious and speedy resolution of disputes.\" \\n\\n Section 2 of the Act of 2009 defines various terms and phrases used in the Act. Clause (a) defines, \"\"Competent Authority\" shall be the Deputy Collector Land Reforms or any officer assigned to discharge the function and duties of the Deputy Collector Land Reforms in the Sub-division\". Clause (d) defines, \"\"Land\" connotes Government land, raiyati land, with structure, if any\". Clause (e) thereof defines, \"\"Allotted Land or Settled Land\" connotes the land which is allotted or settled or on which raiyati rights have accrued under any of the Acts mentioned in Schedule-1 of this Act\". Clause\\n (f) thereof defines, \"\"Allottee or Settlee\" connotes the person with whom land has been settled by the competent authority or the person who has acquired raiyati rights over the land, under any of the Acts contained in Schedule-1 of this Act\". Clause (g) thereof defines \"\"Raiyat\" connotes a raiyat as defined under the provision of the Bihar Tenancy Act, 1885\". Section 3 of the Act of 2009 gives the Act of 2009 overriding effect over the procedure prescribed under (i) The Bihar Land Reforms Act, 1950, (ii) The Bihar Tenancy Act, 1885, (iii) The Bihar Privileged Persons Homestead Tenancy Act, 1947, (iv) The Bihar Bhoodan Yagna Act, 1954, (v) The Bihar Land Reforms (Fixation of Ceiling and Acquisition of Surplus Land) Act, 1961, (vi) The Bihar Consolidation of Holdings and Prevention of Fragmentation Act, 1956. Section 4 thereof provides for the jurisdiction of the Competent Authority. Sub-section (1) thereof empowers the Competent Authority, interalia, to resolve the disputes arising out of\\n (a) Unauthorised and unlawful dispossession of any settlee or allottee from any land or part thereof, settled with or allotted to him under any Act contained in Schedule-1 of this Act by issuance of any settlement document/parcha by a Competent <span class=\"hidden_text\" id=\"span_17\"> Patna High Court CWJC No.1091 of 2013 (12) dt. 24 .06.2014</span> Authority; (b) Restoration of possession of settled/ allotted land in favour of legally entitled settlee/ allottee or his successors/heirs, upon adjudication of unauthorized and unlawful dispossession; (c) Threatened dispossession of a legally entitled settllee/allottee; (d) Any of the matters enumerated in\\n (a), (b) and (c) above appertaining of raiyati land; (e) Partition of land holding; (f) Correction of entry made in the Record of Rights including map/survey map; (g) Declaration of the right of a person; (h) Boundary disputes; (i) Construction of unauthorized structure; and (j) Lis pendens transfer. Sub-section (3) thereof imposes specific bar upon the Competent Authority in respect of the fresh rights of allottee/settlee or a raiyat which is not yet determined and is required to be determined in accordance with the provisions contained in any of the aforesaid six enactments. Sub-sections (2) to (5) thereof read as under :-\\n \"(2) The Competent Authority shall not have jurisdiction to review or reopen any finally concluded and adjudicated proceeding under any of the Act contained in Schedule-1. The Competent Authority shall exercise his authority for resolving the dispute brought before him on the basis of any final order passed by any of the authorities empowered to do so in the Acts contained in Schedule-1 of this Act. \\n\\n (3) The Competent Authority shall not have jurisdiction to adjudicate any fresh rights of allottee/settlee or a raiyat which is not yet determined and is required to be determined in accordance with provisons contained in any of the <span class=\"hidden_text\" id=\"span_19\"> Patna High Court CWJC No.1091 of 2013 (12) dt. 24 .06.2014</span> Acts contained in Schedule-1:\\n Provided that where rights of allottee/settlee or raiyat are already determined under any of the Acts contained in Schedule-1, the Competent Authority shall have jurisdiction to entertain cases appertaining to matters enumerated in sub- section (1). \\n\\n (4) Notwithstanding anything contained in sub- section (2) and (3) hereinabove, if no provision is made in any of the Acts contained in Schedule-1 for determination of rights of allottee/ settlee or raiyat and claimed right is yet to be determined, it shall be open to the Competent Authority to finally determine such right. \\n\\n (5) The Competent Authority, wherever it appears to him that the case instituted before him involves complex question of adjudication of title, he shall close the proceeding and leave it open to parties to seek remedies before the competent Civil Court.\" \\n\\n Section 5 of the Act confers certain powers of Civil Court upon the Competent Authority. Section 6 of the Act provides, \"in all cases of civil nature, concerning a land or a portion thereof, and in which one of the parties to the case is an allottee or settlee under Section-2 of the Act, the State shall be a necessary party\". Section 7 of the Act enjoins the Competent Authority to dispose of all cases summarily in accordance with the Act and Rules framed thereunder. Section 9 of the Act provides for expeditious resolution of disputes. Section 12 of the Act empowers the Collector to exercise power of supervision and control over the <span class=\"hidden_text\" id=\"span_21\"> Patna High Court CWJC No.1091 of 2013 (12) dt. 24 .06.2014</span> Competent Authority. Section 15 of the Act enjoins the Competent Authority to execute its orders. Section 16 of the Act confers power, interalia, of attachment of the standing crop upon the Competent Authority. It is apparent that the Act of 2009 has been enacted with a laudable purpose of giving quick relief to the allottees and settlees who have earned a right or to whom a right has accrued under any of the aforesaid six enactments. That is why Section 3 of the Act of 2009 gives that Act overriding effect over the procedure prescribed under any of the said six enactments. Thus, in my view, the scope and ambit of the Act of 2009 is limited and is circumscribed to the extent of enforcement of rights conferred by or accrued under the aforesaid six enactments. In other words, it is an enactment for execution of the orders made under the above referred six enactments. This intention is reinforced by Sub-section(2) of Section 4 of the Act of 2009 insofar as it expressly provides, \"Competent Authority shall exercise his authority for resolving the dispute brought before him on basis of any final order passed by any of the authorities empowered to do so under the Acts contained in Schedule-1 of the Act\". Similarly, Sub-section (3) thereof expressly prohibits the Competent Authority from exercising its jurisdiction to adjudicate any fresh rights of allottee or settlee or a raiyat not yet determined under any of the aforesaid six enactments. Thus, the legislative intent to confine the Act of 2009 to execution of the orders made under the aforesaid six enactments is clear and unambiguous. Having thus circumscribed the powers of the Competent Authority under the Act of 2009, the mischief has crept in in Sub-sections (4) & (5) of Section 4 of the Act of 2009. The said Sub-section (4) of Section 4 of the Act of 2009 enables the <span class=\"hidden_text\" id=\"span_23\"> Patna High Court CWJC No.1091 of 2013 (12) dt. 24 .06.2014</span> Competent Authority to determine the rights of allottees or settlees or raiyats which are not yet determined. Similarly, Sub-section (5) of Section 4 of the Act of 2009 confers a discretionary power upon the Competent Authority either to adjudicate complex questions of title himself or to allow the parties to seek remedy before the Civil Court. But for Section 4(4) of the Act of 2009, the Competent Authority is not vested with power of adjudication under any of the other provisions of the Act of 2009. The Act which is designed to execute the orders made or to enforce the rights accrued under any of the aforesaid six enactments, has been converted into a substantive or adjudicating enactment by Section 4(4) of the Act of 2009. The power of adjudication conferred under the aforesaid Sub- sections (4) & (5) of Section 4 of the Act of 2009 are largely misused. The power, which is confined to the disputes in relation to the allottees or settlees or raiyats, is exercised in respect of any dispute including the complex issues of title. Though there is no express bar against the jurisdiction of the Civil Court, the said sub- sections practically take away the jurisdiction of the Civil Court to entertain and adjudicate the disputes relating to the title to the land. \\n\\n It is apparent that the Act of 2009 has been enacted with an intention to give immediate relief to the allottees and the settlees whose rights are crystallized under any of the six enactments mentioned in Schedule-1 to the Act of 2009. It is, therefore, necessary that any person approaching the Competent Authority under the Act of 2009 must have a right settled or accrued to him or her under any of the aforesaid six enactments. In other words, the plaintiff has to be the allottee or a settlee of the land under any of the aforesaid six enactments and seeks enforcement of a right crystallized in favour of the plaintiff or accrued to the plaintiff <span class=\"hidden_text\" id=\"span_25\"> Patna High Court CWJC No.1091 of 2013 (12) dt. 24 .06.2014</span> under any of the aforesaid six enactments. It is such a claim alone which can be entertained by the Competent Authority under the Act of 2009. This opinion of mine is corroborated by Section 6 of the Act which makes it mandatory that in all such cases the State Government shall be a necessary party. The preamble of the Act is clear and discloses the intention of the legislature in enacting the Act of 2009. It says, \"disputes with respect to raiyati land or public land allotted in favour of different classes of allottees...........\". Preamble of the Act of 2009 further refers to disputes in relation to, \"the Record of Rights, partition of jamabandi, forcible dispossession of allottees/ raiyats, boundary disputes etc.\" In context of the above referred six enactments, Section 3 of the Act of 2009 gives the overriding effect to the Act of 2009 in respect of the procedure prescribed in the above referred six enactments This seemingly unfettered and unbridled power of adjudication has been misused by the Competent Authority to resolve disputes of title to the land which traditionally are required to be resolved by a Civil Court. In the present case, the respondent no. 4, the plaintiff, asserted her right to land under a sale deed. Neither she is an allottee nor a settlee nor does the dispute arise from any right crystallized or accrued under any of the aforesaid six enactments. The Competent Authority has clearly exceeded his jurisdiction and has usurped the jurisdiction of the Civil Court. \\n\\n Incongruity in legislative drafting of sub-sections (3) & (4) of Section 4 of the Act of 2009 is evident. But then, that is the way the legislature functions. On one hand Sub-section (3) of Section 4 of the Act of 2009 expressly debars the Competent Authority from adjudicating any fresh rights of allottee, settlee or a <span class=\"hidden_text\" id=\"span_27\"> Patna High Court CWJC No.1091 of 2013 (12) dt. 24 .06.2014</span> raiyat which is not determined or which is required to be determined in accordance with the provisions contained in any of the aforesaid six enactments. On the other hand, in stark contradiction, sub-section (4) of Section 4 of the Act of 2009 enables the Competent Authority to finally determine the rights of allottee, settlee or raiyat not yet determined. It is this sub-section (4) which is the mischief monger. Although it refers to the rights of allottee, settlee or raiyat, the broad language used by the legislature is largely misused to usurp the power not conferred by the Act of 2009 and to determine the rights claimed by the persons other than allottee, settlee or raiyat and the rights claimed outside any of the aforesaid six enactments. This wide amplitude granted under sub- section (4) calls for intervention by this Court and reading down of the sub-section (4) to bring it in consonance with the other provisions of the Act of 2009. \\n\\n Similarly, sub-section (5) of Section 4 of the Act of 2009 also is a mischief monger. Once jurisdiction of the Competent Authority is confined to the execution of the orders made or enforcement of rights accrued under any of the aforesaid six enactments, sub-section (5) of Section 4 of the Act of 2009, by necessary implication, allows the Competent Authority to entertain matters not arising out of the aforesaid six enactments and issues invoking complex questions of adjudication of title. The complex issues of title can never be decided in a summary proceeding envisaged by the Act of 2009. The said sub-section (5) also has the tendency to convert the power of execution of orders into the power of adjudication. The said sub-section (5) also requires to be read down to bring it in consonance with the other provisions contained in the Act of 2009. \\n\\n A Full Bench of this Court in the matter of Nand Kumar Rai (supra) had the occasion to examine the constitutional validity of Section 109 of the Bihar Tenancy Act, 1885 as it stood after its amendment under the Act 6 of 1970. It appears that under the said amendment the legislature barred the jurisdiction of the Civil Court in respect of any application or suit concerning the preparation or publication of record or rights or settlement of rent or preparation of Settlement Rent Roll or for alteration of any entry in any such record or for the determination of the incidents of any tenancy. \\n\\n The said enactment was challenged on the ground that it was a fraud on the legislative power of the State and was enacted in colourable exercise of that power and that the impugned provisions were arbitrary. The Bench held that clause (d) of sub-section (1) and sub-section (2) of Section 109 of the Act introduced by Bihar Act 6 of 1970 were constitutionally invalid. The said clause (d) of sub- section (1) and sub-section (2) of Section 109 of the Act barred the jurisdiction of the Civil Court in the following terms :-\\n \"(d) for declaration of title to or recovery of possession of or confirmation of possession over any holding or tenancy or part thereof in which correctness of any entry in any such record or roll is expressly or impliedly challenged or in which determination of incidents of any tenancy is involved. \\n\\n (2) Suit for declaration of title to or recovery of possession of or confirmation of possession over any holding or tenancy or part thereof, in which correctness of any entry in any record-of-rights or <span class=\"hidden_text\" id=\"span_31\"> Patna High Court CWJC No.1091 of 2013 (12) dt. 24 .06.2014</span> Settlement Rent roll is expressly or impliedly challenged or in which determination of incidents of any tenancy is involved may be instituted before the Collector or any Revenue Officer specially empowered by the State Government by notification in this behalf who shall dispose of the suit in the prescribed manner.\" \\n\\n The Bench held, \"It is difficult to conceive how complicated title suits would be speedily and summarily disposed of by Revenue Courts and how the under-raiyats would be benefited thereby. I can take judicial notice of the fact that a large number of title suits have been filed throughout the State of Bihar wherever Revisional Survey operations have taken place. I am also aware that the number of Civil Courts is too small to dispose of such large number of title suits. I am, however, also aware of the fact that the number of Revenue Courts is also not sufficient, rather too small to dispose of such a large number of complicated title suits. They will be simply unable to decide them unless they technically choose to literally dispose of the suits by any means; no Court by a judicial approach will be above to dispose of such a large number of suits. I am, however, not concerned with the wisdom behind this legislation. I am concerned merely with its constitutional validity. In procedural matter suits of lighter vein have been allowed to be brought to the High Court and complicated suits <span class=\"hidden_text\" id=\"span_33\"> Patna High Court CWJC No.1091 of 2013 (12) dt. 24 .06.2014</span> are to be finally disposed of by the Revenue authorities. I also do not see any justification for making a distinction between title suits for declaration of title and possession and suits of other types such a partition or mortgage suits.\" \\n\\n In my opinion, a similar mischief is found in the Act of 2009 where the competent authority is allowed to entertain and summarily decide the rights which are not crystallized under any of the aforesaid six enactments and to entertain and decide complex issues of title to the land under sub-sections (4) & (5) of Section 4 of the Act of 2009. The Act of 2009 is clear and explicit insofar as its scope and ambit are concerned. It is repeatedly emphasized that the Act of 2009 has been enacted for enforcement of a right conferred by or accrued under the above referred six enactments. It would not be out of place to note that all the above referred six enactments relate to land reforms and are pretty old. The said Acts are in force for more than fifty years. Most of the issues must have been settled by now. It may be only residuary matters which may still require to be adjudicated/enforced. No claim to a property or a dispute relating to a property can be entertained or decided by the Competent Authority under the Act of 2009 to resolve disputes other than the ones arising from the above referred six enactments. \\n\\n In my opinion, clause (e) of Sub-section (1) of Section 4 of the Act of 2009 which reads, \"Partition of land\" has to be read as the dispute relating to the land allotted or settled under any of the above referred six enactments and the claim made by an allottee/ a settlee or a Raiyat. The said clause (e) will not cover each and every issue relating to any land and the partition between the co-sharers, <span class=\"hidden_text\" id=\"span_35\"> Patna High Court CWJC No.1091 of 2013 (12) dt. 24 .06.2014</span> co-parceners, joint owners etc. of such land. Similarly, clause (g) of Sub-section (1) of Section 4 of the Act of 2009 which provides for \"Declaration of the right of a person\" also requires to be read down. Again the right referred to in the said clause (g) has to be a right conferred by or accrued under any of the aforesaid six enactments and none other. „A person‟ would mean an allottee/ a settlee of a land or a Raiyat as defined in clause (f) of Section 2 of the Act of 2009. No person other than an allottee/ a settlee or a Raiyat can have an access to the remedy under the Act of 2009. Clause (i) of Sub-section (1) of Section 4 of the Act of 2009 which refers to \"Construction of unauthorized structure\" should also be read down to mean the construction of unauthorized structure on the land of a Raiyat allotted or settled under any of the above referred six enactments and no other land or structure. Clause (j) of Sub- section (1) of Section 4 of the Act of 2009 is clearly outside the purview of the any of the above referred six enactments. The principle of lis pendence transfer is necessarily applicable to a civil litigation. If at all, its reference in the Act of 2009 would necessarily mean the transfer of the land of a Raiyat or a settlee allotted or settled under any of the aforesaid six enactments pending the adjudication under the concerned Act. In our opinion, the power of the Competent Authority under the Act of 2009 cannot be read to be wide enough to enfold in its embrace all kinds of disputes relating to any land. \\n\\n In my opinion, Sub-section (4) of Section 4 of the Act of 2009 brings a complete anachronism as it has the effect of encompassing in its folds any real or imaginary right an allottee or a settlee or a Raiyat can claim which is not conferred by any of the aforesaid six enactments. That would necessarily mean that the <span class=\"hidden_text\" id=\"span_37\"> Patna High Court CWJC No.1091 of 2013 (12) dt. 24 .06.2014</span> rights which are not conferred by or accrued under the above referred six enactments also can be adjudicated by the Competent Authority under the Act of 2009. This wide power conferred upon the Competent Authority is unbridled, unfettered and unguided. As we have seen on the facts of the present case that they are grossly abused. It is not possible to save the said Sub-section (4) of Section 4 of the Act of 2009 by employing the principle of harmonious interpretation. The said Sub-section (4) requires to be held to arbitrary and to that extent unconstitutional. \\n\\n Sub-section (5) of Section 4 of the Act of 2009 empowers the Competent Authority to allow the parties to approach the Civil Court for adjudication of complex issues of title. Although the said Sub-section (5) is directory, should be read as mandatory. It shall be the duty of the Competent Authority to refer the complex issues of adjudication of title to the concerned Civil Court having jurisdiction to entertain and adjudicate such disputes. \\n\\n For the aforesaid reasons, this Petition is allowed. Clauses (e), (g), (i) and (j) of Sub-section (1) of Section 4 of the Act of 2009 are read down to the extent indicated hereinabove. Sub- section (4) of Section 4 of the Act of 2009 is held to be arbitrary and ultra vires Article 14 of the Constitution and unconstitutional to that extent. The said Sub-section (4) of Section 4 is, therefore, quashed. Sub-section (5) of Section 4 of the Act of 2009 will be read as mandatory provision as indicated hereinabove. \\n\\n The impugned order dated 27th December 2011 made by the Competent Authority-cum-Deputy Collector Land Reforms, Forbesganj in B.L.D.R. Act Case No. 91 of 2011-12 is quashed and set aside. Consequently, the appellate order made on 8th August 2012 made by the Divisional Commissioner, Purnea in Land <span class=\"hidden_text\" id=\"span_39\"> Patna High Court CWJC No.1091 of 2013 (12) dt. 24 .06.2014</span> Dispute Appeal No. 69 of 2012 stands quashed. The B.L.D.R. Act Case No. 91 of 2011-12 filed before the Competent Authority-cum- Deputy Collector Land Reforms, Forbesganj is dismissed. The respondent no. 4 will bear the costs throughout. \\n\\n It is clarified that this order shall not preclude the respondent no. 4, the plaintiff, from asserting her right to the disputed parcels of land before the Civil Court. \\n\\n Interlocutory application stands disposed of. \\n\\n (R.M. Doshit, CJ) As per Ashwani Kumar Singh, J I have had the privilege and advantage of perusing the judgment of Hon‟ble the Chief Justice. Since Hon‟ble the Chief Justice has extensively dealt with the facts and law involved in the matter, I need not repeat the same. \\n\\n I fully concur with the view of Hon‟ble the Chief Justice with regard to Sub-sections (1) and (4) of Section 4 of The Bihar Land Disputes Resolution Act, 2009 (for short „the Act of 2009‟). The Hon‟ble Chief Justice has held that the Act of 2009 is an enactment for execution of the orders made under the six enactments referred to in the preamble and schedule-I of the Act of 2009. she has further held that but for Section 4 of the Act of 2009, the Competent Authority is not vested with the power of adjudication under any of the other provisions of the Act of 2009, and the Act which is designed to execute the orders made under the aforesaid six enactments, converts the Competent Authority into an adjudicating Court by dint of Section 4 of the Act of 2009. I am in <span class=\"hidden_text\" id=\"span_41\"> Patna High Court CWJC No.1091 of 2013 (12) dt. 24 .06.2014</span> complete agreement with the aforesaid view of Hon‟ble the Chief Justice. I also agree with the view that Sub-section (5) of Section 4 of the Act mandatorily requires the Competent Authority to allow the parties to approach the Civil Court for adjudication of complex issues of title. \\n\\n However, I am unable to resist from adding some of my own observations in the context of the provisions of Sub-section (5) of Section 4 of the Act of 2009. Sub-section (5) of Section 4 of the Act of 2009 reads as follows :\\n \"(5) The Competent Authority, wherever it appears to him that the case instituted before him involves complex question of adjudication of title, he shall close the proceeding and leave it open to parties to seek remedies before the competent Civil Court\". \\n\\n The group of words \"complex question of adjudication of title\" which form part of the sentence in Sub-\\n section (5) of Section 4 of the Act of 2009 has been used as a phrase in the said provision. While incorporating the aforesaid group of words as a phrase in Sub-section (5), the legislature itself says that all cases involving issues of title per se involve complex questions and which cannot be decided in a summary proceeding, being the ambit and scope of the Act of 2009, and thus under all circumstances where issues relating to title arise would have to be mandatorily closed by the Competent Authority. \\n\\n In other words, the said phrase occurring in sub-section (5) of Section 4 of the Act of 2009 envisages that no sooner than a question of adjudication of title which is inherently a complex one is involved, the Competent Authority is required to invariably close the proceeding. The word „complex‟ has not been used in <span class=\"hidden_text\" id=\"span_43\"> Patna High Court CWJC No.1091 of 2013 (12) dt. 24 .06.2014</span> contradistinction to the word „simple‟. \\n\\n In above view of the matter, I am of the considered opinion that Sub-section (5) of Section 4 of the Act of 2009 strictly forbids the Competent Authority to entertain matters involving questions of adjudication of title. I am of the view that the Competent Authority, irrespective of nature of cases involving issues of title, is bound to close the proceedings for want of jurisdiction and leave it open to the parties to seek remedies before the competent Civil Court. \\n\\n In the result, subject to the aforesaid observations of mine, I fully agree with the findings and conclusions arrived at by Hon‟ble the Chief Justice in the matter. \\n\\n (Ashwani Kumar Singh, J.) AFR Manish/Sanjeet'"
      ]
     },
     "execution_count": 15,
     "metadata": {},
     "output_type": "execute_result"
    }
   ],
   "source": [
    "string"
   ]
  },
  {
   "cell_type": "code",
   "execution_count": 11,
   "id": "d53d2cec-21f9-40a2-8a27-ee623abc648e",
   "metadata": {},
   "outputs": [],
   "source": [
    "filterdataset=combinedataset.iloc[:, [0,1,2,3,6,7,8,9]]"
   ]
  },
  {
   "cell_type": "code",
   "execution_count": 31,
   "id": "a3990db4-c5dc-4147-b95d-84ddb960174e",
   "metadata": {},
   "outputs": [
    {
     "data": {
      "text/plain": [
       "92"
      ]
     },
     "execution_count": 31,
     "metadata": {},
     "output_type": "execute_result"
    }
   ],
   "source": [
    "len(filterdataset.values[0][0])+len(filterdataset.values[0][1])"
   ]
  },
  {
   "cell_type": "code",
   "execution_count": 21,
   "id": "7e9312a0-1dbb-43af-b9be-0f7a19545796",
   "metadata": {},
   "outputs": [
    {
     "data": {
      "text/plain": [
       "'Maheshwar Mandal & Anr vs The State Of Bihar & Ors on 24 June, 2014'"
      ]
     },
     "execution_count": 21,
     "metadata": {},
     "output_type": "execute_result"
    }
   ],
   "source": [
    "filterdataset[['Titles']].values[0][0]\n"
   ]
  },
  {
   "cell_type": "code",
   "execution_count": 27,
   "id": "9fd13778-47e7-4728-9815-2ada2a2ac799",
   "metadata": {},
   "outputs": [],
   "source": [
    "def clean_text(text):\n",
    "    # Remove special characters and numbers\n",
    "    text = re.sub(r'\\W', ' ', text)\n",
    "    #text = re.sub(r', '', text)\n",
    "    text = text.strip()\n",
    "    return text\n"
   ]
  },
  {
   "cell_type": "code",
   "execution_count": 31,
   "id": "efe065db-a69e-4208-956d-fb96d571e9dc",
   "metadata": {},
   "outputs": [],
   "source": [
    "import numpy as np\n",
    "# Step 1: Create a NumPy array\n",
    "array = filterdataset[['Titles']].values\n",
    "# Step 2: Open the text file in append mode\n",
    "with open(r'C:\\Users\\pm307\\Desktop\\NLP\\legal_NER\\output.txt', 'a') as file:\n",
    "    # Step 3: Loop through the NumPy array\n",
    "    for value in array:\n",
    "        # Step 4: Write each value to the file on a new line\n",
    "        textstring=clean_text(value[0])\n",
    "        file.write(f\"{textstring}\\n\")"
   ]
  },
  {
   "cell_type": "code",
   "execution_count": 37,
   "id": "242b6bf3-9d0a-4cb9-904b-a995c865b088",
   "metadata": {},
   "outputs": [
    {
     "data": {
      "text/plain": [
       "0        Maheshwar Mandal & Anr vs The State Of Bihar &...\n",
       "1        Sri Ashok Goenka & Anr vs Chandra Bhushan Sing...\n",
       "2        Mt.Prabhawati & Ors vs The State Of Bihar & Or...\n",
       "3        Md. Nizamuddin vs The State Of Bihar & Ors on ...\n",
       "4        Vodafone Essar Spacetel Ltd.&A vs The State Of...\n",
       "                               ...                        \n",
       "11965    Ms. Summit Online Trade Solution ... vs The Un...\n",
       "11966    Ms Future Gaming Solutions India ... vs The Un...\n",
       "11967    Sikkim Manipal University vs State Of Sikkim A...\n",
       "11968    Ms Sikkim State Co-Operative Bank ... vs Madan...\n",
       "11969    Ms. Summit Online Trade Solution ... vs Union ...\n",
       "Name: Titles, Length: 11970, dtype: object"
      ]
     },
     "execution_count": 37,
     "metadata": {},
     "output_type": "execute_result"
    }
   ],
   "source": [
    "filterdataset['Titles'].values[0]\n"
   ]
  },
  {
   "cell_type": "code",
   "execution_count": 17,
   "id": "783ca1d9-6f1d-42b2-830f-f6f882d94923",
   "metadata": {},
   "outputs": [],
   "source": [
    "def clean_text(text):\n",
    "    # Remove special characters and numbers\n",
    "    text = re.sub(r'\\W', ' ', text)\n",
    "    text = re.sub(r'\\d', '', text)\n",
    "    text = text.strip()\n",
    "    return text\n"
   ]
  },
  {
   "cell_type": "code",
   "execution_count": 19,
   "id": "45c0dd63-acd7-4c9b-a09a-60cfc8678521",
   "metadata": {},
   "outputs": [],
   "source": [
    "text12 = clean_text(string)"
   ]
  },
  {
   "cell_type": "code",
   "execution_count": 21,
   "id": "17dfd153-cd61-4c6a-a47a-e32e6d2b7c02",
   "metadata": {},
   "outputs": [
    {
     "data": {
      "text/plain": [
       "'IN THE HIGH COURT OF JUDICATURE AT PATNA                   Civil Writ Jurisdiction Case No  of                                          With                       Interlocutory Application No   of                                           In                   Civil Writ Jurisdiction Case No   of                                                                Maheshwar Mandal S O Late Bachchi Mandal   Sanjay Mandal S O Maheshwar Mandal  both resident of Village Sahebganj  P S   P O  and Anchal  Narpatganj  Subdivision  Forbesganj  District Araria           Petitioners Versus   The State of Bihar   Divisional Commissioner  Purnea   Land Reforms Deputy Collector  Forbesganj  Araria             Respoondents st Party   Smt  Jashoda Devi  wife of Gosain Mandal  resident of Village Sahebganj  P S   P O  and Anchal  Narpatganj  Subdivision  Forbesganj  District Araria           Respondent nd Party                                                             Appearance   For the Petitioners             Mr  Yogendra Mishra                                   Mr  Uma Kant Tiwary                                  Mr  Binod Kumar  Advocates For Respondent No              Ms  Kumari Ritambhara  Advocate For the State                   Mr  Lalit Kishore  PAAG with                                 Mr  Piyush Lall  AC to PAAG                                 Mr  Ram Kishore Singh  AC to AAG                                    Mr  Syed Hussain Majeed  AC to AAG                                  Ms  Shashi Priya Pathak  AC to AAG                                                               span class  hidden_text  id  span_   Patna High Court CWJC No  of     dt       span  CORAM  HONOURABLE THE CHIEF JUSTICE And HONOURABLE MR  JUSTICE ASHWANI KUMAR SINGH C A V JUDGMENT  Per  HONOURABLE THE CHIEF JUSTICE        This Petition under Article  of the Constitution has been filed by a father and the son Maheshwar Mandal and Sanjay Mandal to challenge the order dated th December  made by the Competent Authority cum Deputy Collector Land Reforms  Forbesganj  Araria in B L D R  Act Case No   of   in exercise of power conferred by the Bihar Land Disputes Resolution Act    hereinafter referred to as  the Act of     The petitioners have also challenged the constitutional validity of the Act of      One Jashoda Devi  the respondent no    wife of one Gosai Mandal approached the Competent Authority under the Act of  for a declaration that she is the owner of the disputed parcels of land  hereinafter referred to as  the suit land   and that she is entitled to the possession of the suit land  She complained that the petitioners herein had forcibly dispossessed her  She  therefore  be put in possession of the suit land  The case was contested by the writ petitioners  According to them  the suit land was part of the lands inherited by the petitioner no   and his brothers from their father Bachchi Mandal  It was the ancestral property inherited from the original owner Babujan Mandal  The sons of Bachchi Mandal were the joint owners of the land  The plaintiff  Jashoda Devi was the wife of one of the brothers  She claimed title over the suit land through a sale purportedly made by the late Bachchi Mandal on nd December   According to the  span class  hidden_text  id  span_   Patna High Court CWJC No  of     dt       span  petitioners  the said sale was later on cancelled on th February   The land continued to be the joint property of the six brothers and was partitioned amongst them on th April  under a partition deed     The Competent Authority cum Deputy Collector Land Reforms  Forbesganj  hereinafter referred to as  the Competent Authority   held that the deed of cancellation of sale was not a valid document and that the plaintiff  Jashoda Devi was the lawful owner of the suit land  In view of the said finding  the Competent Authority issued direction to the petitioners to handover possession of the disputed parcels of land to the plaintiff  Jashoda Devi  the respondent no   herein  The said order of the Competent Authority has been confirmed by the Divisional Commissioner  Purnea Division  Purnea on th August  in Land Dispute Appeal No   of   Therefore  this Petiton     Learned advocate Mr  Yogendra Mishra has appeared for the petitioners  He has assailed the provisions contained in the Act of   He has submitted that the provisions contained in the Act of  divest the Civil Court of its function of adjudicating the question of title over the land  The Act of  also confers unfettered and unbridled power upon the Competent Authority  Mr  Mishra has strenuously urged that the State legislature has no authority to confer power upon the executive to adjudicate civil disputes which is traditionally conferred upon the Civil Court under the Code of Civil Procedure  In support of his submission  he has relied upon Section  of the Code of Civil Procedure and a Full Bench judgment of this Court in the matter of Nand Kumar Rai   Others Vs  State of Bihar   Others  AIR  Patna       The Petition is contested by the State Government     Learned advocate Mr  Ram Kishore Singh has appeared for the State Government  He has relied upon Entry  of the State List of Schedule VII to the Constitution of India  the Bihar Tenancy Act   and the judgment in the matter of Smt  Basmati Devi Vs  Smt  Anju Kumari      PLJR    He  however  concedes that in the present case the Competent Authority has exceeded his jurisdiction     In view of challenge to the constitutional validity of the Act of   we have heard learned Principal Additional Advocate General  Mr  Lalit Kishore on behalf of the State Government  Mr  Lalit Kishore has contested the challenge to the constitutional validity of the Act of   He has taken us through the various provisions of the Act of   He has submitted that the Act empowers the Competent Authority to enforce the rights conferred by or accrued under the six enactments mentioned in Schedule I to the Act of   The power vested in the Competent Authority is  therefore  required to be read as confined to the enforcement of the rights conferred by or accrued under the aforesaid six enactments alone  and if so read  none of the provisions of the Act of  can be said to be unconstitutional  Mr  Lalit Kishore has submitted that the petitioners have not challenged a particular provision s of the Act of   but the challenge is general and vague  He has submitted that unless the State legislature lacks the legislative competence to make the enactment  the enactment cannot be said to be unconstitutional  He has further submitted that to challenge any provision as unconstitutional one has to establish contravention of the provisions contained in the Constitution  In the present case it is not the case of the petitioners that any of the provisions contained in the Act of  is unconstitutional in any manner  Mr  Lalit Kishore  span class  hidden_text  id  span_   Patna High Court CWJC No  of     dt       span  has next submitted that the provisions contained in the Act of  are specific and unambiguous  Such provisions are required to be interpreted as they are  The rule of construction of legal provisions does permit reference to the preamble of the enactment  but no provision can be held to be ultra vires the preamble of the enactment  Mr  Lalit Kishore has meticulously taken us through each provision particularly Section  and various clauses under Sub section    of Section  of the Act of      In support of his submissions  Mr  Lalit Kishore has relied upon the judgments of the Hon ble Supreme Court in the matters of M s Burrakur Coal Co  Ltd  Vs  The Union of India and Others  AIR  Supreme Court   Mohan Lal Vs  Kartar Singh and Others   Supp    Supreme Court Cases   Union of India Vs  Elphinstone Spinning and Weaving Co  Ltd  and Others     Supreme Court Cases   and Shiv Kumar Chadha Vs  Municipal Corporation of Delhi and Others      Supreme Court Cases       In the matter of M s Burrakur Coal Co  Ltd   supra  the very issue of interpretation of statute was the subject matter of consideration by the Constitutional Bench of the Hon ble Supreme Court  The Hon ble Court held   it is one of the cardinal principles of construction that where the language of an Act is clear  the preamble must be disregarded though  where the object or meaning of an enactment is not clear  the preamble may be resorted to explain it      We cannot  therefore  start with the preamble for construing the provisions of an Act  though  we would be justified in resorting to it  nay  we will be required to do so  if we find that the language used by Parliament is ambiguous or is too general though in point of  span class  hidden_text  id  span_   Patna High Court CWJC No  of     dt       span  fact Parliament intended that it should have a limited application      In the matter of Mohan Lal  supra  a similar provision for summary enquiry by collector was the subject matter of challenge before the Hon ble Supreme Court  The Hon ble Court observed   Though the enquiry is summary it is judicial in nature       Therefore  merely because the Collector acting under section  has to make a summary enquiry  it cannot be said that he can decide only simple questions as regards the nature of possession and not those questions which are complicated but have a bearing on the nature of possession      In the matter of Union of India  supra  challenge was directed to the Textile Undertakings  Taking Over of Management  Act    The Court observed   There is always a presumption that the legislature does not exceed its jurisdiction and the burden of establishing that the legislature has transgressed constitutional mandate  such as those relating to fundamental rights is always on the person who challenges its vires   The Hon ble Court further held   The Court must therefore adjudge the constitutionality of such legislation by the generality of its provisions and not by its crudities or inequities or by the possibilities of abuse of any of its provisions      In the matter of Shiv Kumar Chadha  supra  challenge was against the bar imposed upon the Civil Court to entertain matters under the Delhi Municipal Corporation Act       Learned advocate Ms  Kumari Ritambhara has appeared for the respondent no   plaintiff  She has supported the orders of the authorities below     True  the petitioners have not raised a specific challenge  span class  hidden_text  id  span_   Patna High Court CWJC No  of     dt       span  to a particular provision s  The challenge to the constitutional validity of the Act of  is too general and vague  The sole reliance is placed on the Full Bench judgment in the matter of Nand Kumar Rai   Others  supra   Mr  Yogendra Mishra appearing for the petitioners has failed to establish that any of the provisions of the Act of  is unconstitutional  nor it is the plea of Mr  Mishra that the Act of  has been enacted by the State legislature without the legislative competency  Nevertheless  I do feel that there are certain provisions in the Act of  which  strictly speaking though are not unconstitutional  do require reading down     As the Act of  is under challenge before us  we shall first examine the objects and reasons of the Act of  and its provisions     The preamble of the Act of  reads as under      WHEREAS  in the State of Bihar  disputes relating to record of rights  boundaries  entries in revenue records  unlawful occupation of raiyati land and forcible dispossession of allottees and settlees of public land  generate problems and cause unnecessary harassment to bona fide allotees settlees  raiyats or occupants   WHEREAS  such disputes with respect to raiyati land or public land allotted in favour of different classes of allottees are unnecessarily occupying major space of Civil Courts and Hon ble High Court and which should otherwise have been resolved by the Revenue Authorities  who may be better equipped to deal with such disputes having regard to their continued presence in the field offices and their expertise in  span class  hidden_text  id  span_   Patna High Court CWJC No  of     dt       span  Revenue Administration  WHEREAS  in larger public interest it is deemed necessary to provide for effective and speedy mechanism to resolve such disputes which give rise to major turbulence if not addressed immediately and effectively   AND  WHEREAS  it has been found in analysis of data relating to nature of disputes that they mostly appertain to matters connected with the Record of Rights  partition of jamabandi  forcible dispossession of allottees raiyats  boundary disputes etc  and in this context  the administration of the following Acts is involved                           The Bihar Land Reforms Act                                  The Bihar Tenancy Act                             The Bihar Privileged Persons Homestead Tenancy                           Act                                  The Bihar Bhoodan Yagna Act                              The Bihar Land Reforms  Fixation of Ceiling and                           Acquisition of Surplus Land  Act        The Bihar Consolidation of Holdings and Prevention of Fragmentation Act    AND  WHEREAS  different forums and procedures have been provided for the resolution of disputes under the above referred Acts and it is considered expedient to provide a uniform and common forum  procedure and mechanism which would achieve the objective of effective  efficacious and speedy resolution of disputes      Section  of the Act of  defines various terms and phrases used in the Act  Clause  a  defines    Competent Authority  shall be the Deputy Collector Land Reforms or any officer assigned to discharge the function and duties of the Deputy Collector Land Reforms in the Sub division   Clause  d  defines    Land  connotes Government land  raiyati land  with structure  if any   Clause  e  thereof defines    Allotted Land or Settled Land  connotes the land which is allotted or settled or on which raiyati rights have accrued under any of the Acts mentioned in Schedule  of this Act   Clause   f  thereof defines    Allottee or Settlee  connotes the person with whom land has been settled by the competent authority or the person who has acquired raiyati rights over the land  under any of the Acts contained in Schedule  of this Act   Clause  g  thereof defines   Raiyat  connotes a raiyat as defined under the provision of the Bihar Tenancy Act     Section  of the Act of  gives the Act of  overriding effect over the procedure prescribed under  i  The Bihar Land Reforms Act     ii  The Bihar Tenancy Act     iii  The Bihar Privileged Persons Homestead Tenancy Act     iv  The Bihar Bhoodan Yagna Act     v  The Bihar Land Reforms  Fixation of Ceiling and Acquisition of Surplus Land  Act     vi  The Bihar Consolidation of Holdings and Prevention of Fragmentation Act    Section  thereof provides for the jurisdiction of the Competent Authority  Sub section    thereof empowers the Competent Authority  interalia  to resolve the disputes arising out of   a  Unauthorised and unlawful dispossession of any settlee or allottee from any land or part thereof  settled with or allotted to him under any Act contained in Schedule  of this Act by issuance of any settlement document parcha by a Competent  span class  hidden_text  id  span_   Patna High Court CWJC No  of     dt       span  Authority   b  Restoration of possession of settled  allotted land in favour of legally entitled settlee  allottee or his successors heirs  upon adjudication of unauthorized and unlawful dispossession   c  Threatened dispossession of a legally entitled settllee allottee   d  Any of the matters enumerated in   a    b  and  c  above appertaining of raiyati land   e  Partition of land holding   f  Correction of entry made in the Record of Rights including map survey map   g  Declaration of the right of a person   h  Boundary disputes   i  Construction of unauthorized structure  and  j  Lis pendens transfer  Sub section    thereof imposes specific bar upon the Competent Authority in respect of the fresh rights of allottee settlee or a raiyat which is not yet determined and is required to be determined in accordance with the provisions contained in any of the aforesaid six enactments  Sub sections    to    thereof read as under         The Competent Authority shall not have jurisdiction to review or reopen any finally concluded and adjudicated proceeding under any of the Act contained in Schedule   The Competent Authority shall exercise his authority for resolving the dispute brought before him on the basis of any final order passed by any of the authorities empowered to do so in the Acts contained in Schedule  of this Act        The Competent Authority shall not have jurisdiction to adjudicate any fresh rights of allottee settlee or a raiyat which is not yet determined and is required to be determined in accordance with provisons contained in any of the  span class  hidden_text  id  span_   Patna High Court CWJC No  of     dt       span  Acts contained in Schedule    Provided that where rights of allottee settlee or raiyat are already determined under any of the Acts contained in Schedule   the Competent Authority shall have jurisdiction to entertain cases appertaining to matters enumerated in sub  section           Notwithstanding anything contained in sub  section    and    hereinabove  if no provision is made in any of the Acts contained in Schedule  for determination of rights of allottee  settlee or raiyat and claimed right is yet to be determined  it shall be open to the Competent Authority to finally determine such right        The Competent Authority  wherever it appears to him that the case instituted before him involves complex question of adjudication of title  he shall close the proceeding and leave it open to parties to seek remedies before the competent Civil Court      Section  of the Act confers certain powers of Civil Court upon the Competent Authority  Section  of the Act provides   in all cases of civil nature  concerning a land or a portion thereof  and in which one of the parties to the case is an allottee or settlee under Section  of the Act  the State shall be a necessary party   Section  of the Act enjoins the Competent Authority to dispose of all cases summarily in accordance with the Act and Rules framed thereunder  Section  of the Act provides for expeditious resolution of disputes  Section  of the Act empowers the Collector to exercise power of supervision and control over the  span class  hidden_text  id  span_   Patna High Court CWJC No  of     dt       span  Competent Authority  Section  of the Act enjoins the Competent Authority to execute its orders  Section  of the Act confers power  interalia  of attachment of the standing crop upon the Competent Authority  It is apparent that the Act of  has been enacted with a laudable purpose of giving quick relief to the allottees and settlees who have earned a right or to whom a right has accrued under any of the aforesaid six enactments  That is why Section  of the Act of  gives that Act overriding effect over the procedure prescribed under any of the said six enactments  Thus  in my view  the scope and ambit of the Act of  is limited and is circumscribed to the extent of enforcement of rights conferred by or accrued under the aforesaid six enactments  In other words  it is an enactment for execution of the orders made under the above referred six enactments  This intention is reinforced by Sub section   of Section  of the Act of  insofar as it expressly provides   Competent Authority shall exercise his authority for resolving the dispute brought before him on basis of any final order passed by any of the authorities empowered to do so under the Acts contained in Schedule  of the Act   Similarly  Sub section    thereof expressly prohibits the Competent Authority from exercising its jurisdiction to adjudicate any fresh rights of allottee or settlee or a raiyat not yet determined under any of the aforesaid six enactments  Thus  the legislative intent to confine the Act of  to execution of the orders made under the aforesaid six enactments is clear and unambiguous  Having thus circumscribed the powers of the Competent Authority under the Act of   the mischief has crept in in Sub sections         of Section  of the Act of   The said Sub section    of Section  of the Act of  enables the  span class  hidden_text  id  span_   Patna High Court CWJC No  of     dt       span  Competent Authority to determine the rights of allottees or settlees or raiyats which are not yet determined  Similarly  Sub section    of Section  of the Act of  confers a discretionary power upon the Competent Authority either to adjudicate complex questions of title himself or to allow the parties to seek remedy before the Civil Court  But for Section    of the Act of   the Competent Authority is not vested with power of adjudication under any of the other provisions of the Act of   The Act which is designed to execute the orders made or to enforce the rights accrued under any of the aforesaid six enactments  has been converted into a substantive or adjudicating enactment by Section    of the Act of   The power of adjudication conferred under the aforesaid Sub  sections         of Section  of the Act of  are largely misused  The power  which is confined to the disputes in relation to the allottees or settlees or raiyats  is exercised in respect of any dispute including the complex issues of title  Though there is no express bar against the jurisdiction of the Civil Court  the said sub  sections practically take away the jurisdiction of the Civil Court to entertain and adjudicate the disputes relating to the title to the land     It is apparent that the Act of  has been enacted with an intention to give immediate relief to the allottees and the settlees whose rights are crystallized under any of the six enactments mentioned in Schedule  to the Act of   It is  therefore  necessary that any person approaching the Competent Authority under the Act of  must have a right settled or accrued to him or her under any of the aforesaid six enactments  In other words  the plaintiff has to be the allottee or a settlee of the land under any of the aforesaid six enactments and seeks enforcement of a right crystallized in favour of the plaintiff or accrued to the plaintiff  span class  hidden_text  id  span_   Patna High Court CWJC No  of     dt       span  under any of the aforesaid six enactments  It is such a claim alone which can be entertained by the Competent Authority under the Act of   This opinion of mine is corroborated by Section  of the Act which makes it mandatory that in all such cases the State Government shall be a necessary party  The preamble of the Act is clear and discloses the intention of the legislature in enacting the Act of   It says   disputes with respect to raiyati land or public land allotted in favour of different classes of allottees              Preamble of the Act of  further refers to disputes in relation to   the Record of Rights  partition of jamabandi  forcible dispossession of allottees  raiyats  boundary disputes etc   In context of the above referred six enactments  Section  of the Act of  gives the overriding effect to the Act of  in respect of the procedure prescribed in the above referred six enactments This seemingly unfettered and unbridled power of adjudication has been misused by the Competent Authority to resolve disputes of title to the land which traditionally are required to be resolved by a Civil Court  In the present case  the respondent no    the plaintiff  asserted her right to land under a sale deed  Neither she is an allottee nor a settlee nor does the dispute arise from any right crystallized or accrued under any of the aforesaid six enactments  The Competent Authority has clearly exceeded his jurisdiction and has usurped the jurisdiction of the Civil Court     Incongruity in legislative drafting of sub sections         of Section  of the Act of  is evident  But then  that is the way the legislature functions  On one hand Sub section    of Section  of the Act of  expressly debars the Competent Authority from adjudicating any fresh rights of allottee  settlee or a  span class  hidden_text  id  span_   Patna High Court CWJC No  of     dt       span  raiyat which is not determined or which is required to be determined in accordance with the provisions contained in any of the aforesaid six enactments  On the other hand  in stark contradiction  sub section    of Section  of the Act of  enables the Competent Authority to finally determine the rights of allottee  settlee or raiyat not yet determined  It is this sub section    which is the mischief monger  Although it refers to the rights of allottee  settlee or raiyat  the broad language used by the legislature is largely misused to usurp the power not conferred by the Act of  and to determine the rights claimed by the persons other than allottee  settlee or raiyat and the rights claimed outside any of the aforesaid six enactments  This wide amplitude granted under sub  section    calls for intervention by this Court and reading down of the sub section    to bring it in consonance with the other provisions of the Act of      Similarly  sub section    of Section  of the Act of  also is a mischief monger  Once jurisdiction of the Competent Authority is confined to the execution of the orders made or enforcement of rights accrued under any of the aforesaid six enactments  sub section    of Section  of the Act of   by necessary implication  allows the Competent Authority to entertain matters not arising out of the aforesaid six enactments and issues invoking complex questions of adjudication of title  The complex issues of title can never be decided in a summary proceeding envisaged by the Act of   The said sub section    also has the tendency to convert the power of execution of orders into the power of adjudication  The said sub section    also requires to be read down to bring it in consonance with the other provisions contained in the Act of      A Full Bench of this Court in the matter of Nand Kumar Rai  supra  had the occasion to examine the constitutional validity of Section  of the Bihar Tenancy Act   as it stood after its amendment under the Act  of   It appears that under the said amendment the legislature barred the jurisdiction of the Civil Court in respect of any application or suit concerning the preparation or publication of record or rights or settlement of rent or preparation of Settlement Rent Roll or for alteration of any entry in any such record or for the determination of the incidents of any tenancy     The said enactment was challenged on the ground that it was a fraud on the legislative power of the State and was enacted in colourable exercise of that power and that the impugned provisions were arbitrary  The Bench held that clause  d  of sub section    and sub section    of Section  of the Act introduced by Bihar Act  of  were constitutionally invalid  The said clause  d  of sub  section    and sub section    of Section  of the Act barred the jurisdiction of the Civil Court in the following terms       d  for declaration of title to or recovery of possession of or confirmation of possession over any holding or tenancy or part thereof in which correctness of any entry in any such record or roll is expressly or impliedly challenged or in which determination of incidents of any tenancy is involved        Suit for declaration of title to or recovery of possession of or confirmation of possession over any holding or tenancy or part thereof  in which correctness of any entry in any record of rights or  span class  hidden_text  id  span_   Patna High Court CWJC No  of     dt       span  Settlement Rent roll is expressly or impliedly challenged or in which determination of incidents of any tenancy is involved may be instituted before the Collector or any Revenue Officer specially empowered by the State Government by notification in this behalf who shall dispose of the suit in the prescribed manner      The Bench held   It is difficult to conceive how complicated title suits would be speedily and summarily disposed of by Revenue Courts and how the under raiyats would be benefited thereby  I can take judicial notice of the fact that a large number of title suits have been filed throughout the State of Bihar wherever Revisional Survey operations have taken place  I am also aware that the number of Civil Courts is too small to dispose of such large number of title suits  I am  however  also aware of the fact that the number of Revenue Courts is also not sufficient  rather too small to dispose of such a large number of complicated title suits  They will be simply unable to decide them unless they technically choose to literally dispose of the suits by any means  no Court by a judicial approach will be above to dispose of such a large number of suits  I am  however  not concerned with the wisdom behind this legislation  I am concerned merely with its constitutional validity  In procedural matter suits of lighter vein have been allowed to be brought to the High Court and complicated suits  span class  hidden_text  id  span_   Patna High Court CWJC No  of     dt       span  are to be finally disposed of by the Revenue authorities  I also do not see any justification for making a distinction between title suits for declaration of title and possession and suits of other types such a partition or mortgage suits      In my opinion  a similar mischief is found in the Act of  where the competent authority is allowed to entertain and summarily decide the rights which are not crystallized under any of the aforesaid six enactments and to entertain and decide complex issues of title to the land under sub sections         of Section  of the Act of   The Act of  is clear and explicit insofar as its scope and ambit are concerned  It is repeatedly emphasized that the Act of  has been enacted for enforcement of a right conferred by or accrued under the above referred six enactments  It would not be out of place to note that all the above referred six enactments relate to land reforms and are pretty old  The said Acts are in force for more than fifty years  Most of the issues must have been settled by now  It may be only residuary matters which may still require to be adjudicated enforced  No claim to a property or a dispute relating to a property can be entertained or decided by the Competent Authority under the Act of  to resolve disputes other than the ones arising from the above referred six enactments     In my opinion  clause  e  of Sub section    of Section  of the Act of  which reads   Partition of land  has to be read as the dispute relating to the land allotted or settled under any of the above referred six enactments and the claim made by an allottee  a settlee or a Raiyat  The said clause  e  will not cover each and every issue relating to any land and the partition between the co sharers   span class  hidden_text  id  span_   Patna High Court CWJC No  of     dt       span  co parceners  joint owners etc  of such land  Similarly  clause  g  of Sub section    of Section  of the Act of  which provides for  Declaration of the right of a person  also requires to be read down  Again the right referred to in the said clause  g  has to be a right conferred by or accrued under any of the aforesaid six enactments and none other   A person  would mean an allottee  a settlee of a land or a Raiyat as defined in clause  f  of Section  of the Act of   No person other than an allottee  a settlee or a Raiyat can have an access to the remedy under the Act of   Clause  i  of Sub section    of Section  of the Act of  which refers to  Construction of unauthorized structure  should also be read down to mean the construction of unauthorized structure on the land of a Raiyat allotted or settled under any of the above referred six enactments and no other land or structure  Clause  j  of Sub  section    of Section  of the Act of  is clearly outside the purview of the any of the above referred six enactments  The principle of lis pendence transfer is necessarily applicable to a civil litigation  If at all  its reference in the Act of  would necessarily mean the transfer of the land of a Raiyat or a settlee allotted or settled under any of the aforesaid six enactments pending the adjudication under the concerned Act  In our opinion  the power of the Competent Authority under the Act of  cannot be read to be wide enough to enfold in its embrace all kinds of disputes relating to any land     In my opinion  Sub section    of Section  of the Act of  brings a complete anachronism as it has the effect of encompassing in its folds any real or imaginary right an allottee or a settlee or a Raiyat can claim which is not conferred by any of the aforesaid six enactments  That would necessarily mean that the  span class  hidden_text  id  span_   Patna High Court CWJC No  of     dt       span  rights which are not conferred by or accrued under the above referred six enactments also can be adjudicated by the Competent Authority under the Act of   This wide power conferred upon the Competent Authority is unbridled  unfettered and unguided  As we have seen on the facts of the present case that they are grossly abused  It is not possible to save the said Sub section    of Section  of the Act of  by employing the principle of harmonious interpretation  The said Sub section    requires to be held to arbitrary and to that extent unconstitutional     Sub section    of Section  of the Act of  empowers the Competent Authority to allow the parties to approach the Civil Court for adjudication of complex issues of title  Although the said Sub section    is directory  should be read as mandatory  It shall be the duty of the Competent Authority to refer the complex issues of adjudication of title to the concerned Civil Court having jurisdiction to entertain and adjudicate such disputes     For the aforesaid reasons  this Petition is allowed  Clauses  e    g    i  and  j  of Sub section    of Section  of the Act of  are read down to the extent indicated hereinabove  Sub  section    of Section  of the Act of  is held to be arbitrary and ultra vires Article  of the Constitution and unconstitutional to that extent  The said Sub section    of Section  is  therefore  quashed  Sub section    of Section  of the Act of  will be read as mandatory provision as indicated hereinabove     The impugned order dated th December  made by the Competent Authority cum Deputy Collector Land Reforms  Forbesganj in B L D R  Act Case No   of   is quashed and set aside  Consequently  the appellate order made on th August  made by the Divisional Commissioner  Purnea in Land  span class  hidden_text  id  span_   Patna High Court CWJC No  of     dt       span  Dispute Appeal No   of  stands quashed  The B L D R  Act Case No   of   filed before the Competent Authority cum  Deputy Collector Land Reforms  Forbesganj is dismissed  The respondent no   will bear the costs throughout     It is clarified that this order shall not preclude the respondent no    the plaintiff  from asserting her right to the disputed parcels of land before the Civil Court     Interlocutory application stands disposed of      R M  Doshit  CJ  As per Ashwani Kumar Singh  J I have had the privilege and advantage of perusing the judgment of Hon ble the Chief Justice  Since Hon ble the Chief Justice has extensively dealt with the facts and law involved in the matter  I need not repeat the same     I fully concur with the view of Hon ble the Chief Justice with regard to Sub sections    and    of Section  of The Bihar Land Disputes Resolution Act    for short  the Act of     The Hon ble Chief Justice has held that the Act of  is an enactment for execution of the orders made under the six enactments referred to in the preamble and schedule I of the Act of   she has further held that but for Section  of the Act of   the Competent Authority is not vested with the power of adjudication under any of the other provisions of the Act of   and the Act which is designed to execute the orders made under the aforesaid six enactments  converts the Competent Authority into an adjudicating Court by dint of Section  of the Act of   I am in  span class  hidden_text  id  span_   Patna High Court CWJC No  of     dt       span  complete agreement with the aforesaid view of Hon ble the Chief Justice  I also agree with the view that Sub section    of Section  of the Act mandatorily requires the Competent Authority to allow the parties to approach the Civil Court for adjudication of complex issues of title     However  I am unable to resist from adding some of my own observations in the context of the provisions of Sub section    of Section  of the Act of   Sub section    of Section  of the Act of  reads as follows        The Competent Authority  wherever it appears to him that the case instituted before him involves complex question of adjudication of title  he shall close the proceeding and leave it open to parties to seek remedies before the competent Civil Court      The group of words  complex question of adjudication of title  which form part of the sentence in Sub   section    of Section  of the Act of  has been used as a phrase in the said provision  While incorporating the aforesaid group of words as a phrase in Sub section     the legislature itself says that all cases involving issues of title per se involve complex questions and which cannot be decided in a summary proceeding  being the ambit and scope of the Act of   and thus under all circumstances where issues relating to title arise would have to be mandatorily closed by the Competent Authority     In other words  the said phrase occurring in sub section    of Section  of the Act of  envisages that no sooner than a question of adjudication of title which is inherently a complex one is involved  the Competent Authority is required to invariably close the proceeding  The word  complex  has not been used in  span class  hidden_text  id  span_   Patna High Court CWJC No  of     dt       span  contradistinction to the word  simple      In above view of the matter  I am of the considered opinion that Sub section    of Section  of the Act of  strictly forbids the Competent Authority to entertain matters involving questions of adjudication of title  I am of the view that the Competent Authority  irrespective of nature of cases involving issues of title  is bound to close the proceedings for want of jurisdiction and leave it open to the parties to seek remedies before the competent Civil Court     In the result  subject to the aforesaid observations of mine  I fully agree with the findings and conclusions arrived at by Hon ble the Chief Justice in the matter      Ashwani Kumar Singh  J   AFR Manish Sanjeet'"
      ]
     },
     "execution_count": 21,
     "metadata": {},
     "output_type": "execute_result"
    }
   ],
   "source": [
    "text12"
   ]
  },
  {
   "cell_type": "code",
   "execution_count": 15,
   "id": "bf755c3f-2de4-43d3-911a-4c120818009c",
   "metadata": {},
   "outputs": [],
   "source": [
    "combinedataset['Titles'] = combinedataset['Titles'].apply(clean_text)\n",
    "combinedataset['Court_Name'] = combinedataset['Court_Name'].apply(clean_text)\n",
    "combinedataset['Doc_url'] = combinedataset['Doc_url'].apply(clean_text)\n",
    "combinedataset['Text'] = combinedataset['Text'].apply(clean_text)\n",
    "combinedataset['Case_Type'] = combinedataset['Case_Type'].apply(clean_text)\n",
    "combinedataset['Court_Type'] = combinedataset['Court_Type'].apply(clean_text)\n",
    "combinedataset['Court_Name_Normalized'] = combinedataset['Court_Name_Normalized'].apply(clean_text)\n",
    "\n"
   ]
  },
  {
   "cell_type": "code",
   "execution_count": 42,
   "id": "d07b482f-6e8d-43c6-89ba-0bf9eb56d856",
   "metadata": {},
   "outputs": [],
   "source": [
    "combinedataset['rowsentence'] = combinedataset['Titles']+combinedataset['Court_Name']+combinedataset['Doc_url']+combinedataset['Text']+combinedataset['Case_Type']+combinedataset['Court_Type']+combinedataset['Court_Name_Normalized']"
   ]
  },
  {
   "cell_type": "code",
   "execution_count": 44,
   "id": "e1b59fdf-56a8-4c6f-a93d-32a2ef740081",
   "metadata": {},
   "outputs": [],
   "source": [
    "combinedataset['rowsentence']=combinedataset['rowsentence'].apply(clean_text)"
   ]
  },
  {
   "cell_type": "code",
   "execution_count": 92,
   "id": "1fbee3f9-c167-4611-b191-60e829b2f142",
   "metadata": {},
   "outputs": [],
   "source": [
    "combinedataset[['rowsentence']].to_csv(r\"C:\\Users\\pm307\\Desktop\\NLP\\dataset\\ner_test.csv\")"
   ]
  },
  {
   "cell_type": "code",
   "execution_count": null,
   "id": "1274a8c5-80ff-4d10-9885-c8d82bcb3397",
   "metadata": {},
   "outputs": [],
   "source": [
    "import spacy"
   ]
  },
  {
   "cell_type": "code",
   "execution_count": 6,
   "id": "254ec740-41f2-40c6-9c13-4986ba7ef875",
   "metadata": {},
   "outputs": [],
   "source": [
    "dataframe=pd.read_csv(r\"C:\\Users\\pm307\\Desktop\\NLP\\dataset\\ner_test.csv\")"
   ]
  },
  {
   "cell_type": "code",
   "execution_count": 7,
   "id": "7ee1481b-5ff5-4db3-9f90-e68aa60a1718",
   "metadata": {},
   "outputs": [],
   "source": [
    "dataframe=dataframe.drop(\"Unnamed: 0\", axis= 1)"
   ]
  },
  {
   "cell_type": "code",
   "execution_count": 14,
   "id": "03f5fab3-b6dd-464e-ba18-d6c8bfe5263e",
   "metadata": {},
   "outputs": [
    {
     "name": "stderr",
     "output_type": "stream",
     "text": [
      "C:\\Users\\pm307\\AppData\\Local\\Temp\\ipykernel_21120\\1749762604.py:1: FutureWarning: Series.__getitem__ treating keys as positions is deprecated. In a future version, integer keys will always be treated as labels (consistent with DataFrame behavior). To access a value by position, use `ser.iloc[pos]`\n",
      "  dataframe.iloc[0][0]\n"
     ]
    },
    {
     "data": {
      "text/plain": [
       "'Maheshwar Mandal   Anr vs The State Of Bihar   Ors on  June  Patna High Court   Ordershttps   indiankanoon org doc  IN THE HIGH COURT OF JUDICATURE AT PATNA                   Civil Writ Jurisdiction Case No  of                                          With                       Interlocutory Application No   of                                           In                   Civil Writ Jurisdiction Case No   of                                                                Maheshwar Mandal S O Late Bachchi Mandal   Sanjay Mandal S O Maheshwar Mandal  both resident of Village Sahebganj  P S   P O  and Anchal  Narpatganj  Subdivision  Forbesganj  District Araria           Petitioners Versus   The State of Bihar   Divisional Commissioner  Purnea   Land Reforms Deputy Collector  Forbesganj  Araria             Respoondents st Party   Smt  Jashoda Devi  wife of Gosain Mandal  resident of Village Sahebganj  P S   P O  and Anchal  Narpatganj  Subdivision  Forbesganj  District Araria           Respondent nd Party                                                             Appearance   For the Petitioners             Mr  Yogendra Mishra                                   Mr  Uma Kant Tiwary                                  Mr  Binod Kumar  Advocates For Respondent No              Ms  Kumari Ritambhara  Advocate For the State                   Mr  Lalit Kishore  PAAG with                                 Mr  Piyush Lall  AC to PAAG                                 Mr  Ram Kishore Singh  AC to AAG                                    Mr  Syed Hussain Majeed  AC to AAG                                  Ms  Shashi Priya Pathak  AC to AAG                                                               span class  hidden_text  id  span_   Patna High Court CWJC No  of     dt       span  CORAM  HONOURABLE THE CHIEF JUSTICE And HONOURABLE MR  JUSTICE ASHWANI KUMAR SINGH C A V JUDGMENT  Per  HONOURABLE THE CHIEF JUSTICE        This Petition under Article  of the Constitution has been filed by a father and the son Maheshwar Mandal and Sanjay Mandal to challenge the order dated th December  made by the Competent Authority cum Deputy Collector Land Reforms  Forbesganj  Araria in B L D R  Act Case No   of   in exercise of power conferred by the Bihar Land Disputes Resolution Act    hereinafter referred to as  the Act of     The petitioners have also challenged the constitutional validity of the Act of      One Jashoda Devi  the respondent no    wife of one Gosai Mandal approached the Competent Authority under the Act of  for a declaration that she is the owner of the disputed parcels of land  hereinafter referred to as  the suit land   and that she is entitled to the possession of the suit land  She complained that the petitioners herein had forcibly dispossessed her  She  therefore  be put in possession of the suit land  The case was contested by the writ petitioners  According to them  the suit land was part of the lands inherited by the petitioner no   and his brothers from their father Bachchi Mandal  It was the ancestral property inherited from the original owner Babujan Mandal  The sons of Bachchi Mandal were the joint owners of the land  The plaintiff  Jashoda Devi was the wife of one of the brothers  She claimed title over the suit land through a sale purportedly made by the late Bachchi Mandal on nd December   According to the  span class  hidden_text  id  span_   Patna High Court CWJC No  of     dt       span  petitioners  the said sale was later on cancelled on th February   The land continued to be the joint property of the six brothers and was partitioned amongst them on th April  under a partition deed     The Competent Authority cum Deputy Collector Land Reforms  Forbesganj  hereinafter referred to as  the Competent Authority   held that the deed of cancellation of sale was not a valid document and that the plaintiff  Jashoda Devi was the lawful owner of the suit land  In view of the said finding  the Competent Authority issued direction to the petitioners to handover possession of the disputed parcels of land to the plaintiff  Jashoda Devi  the respondent no   herein  The said order of the Competent Authority has been confirmed by the Divisional Commissioner  Purnea Division  Purnea on th August  in Land Dispute Appeal No   of   Therefore  this Petiton     Learned advocate Mr  Yogendra Mishra has appeared for the petitioners  He has assailed the provisions contained in the Act of   He has submitted that the provisions contained in the Act of  divest the Civil Court of its function of adjudicating the question of title over the land  The Act of  also confers unfettered and unbridled power upon the Competent Authority  Mr  Mishra has strenuously urged that the State legislature has no authority to confer power upon the executive to adjudicate civil disputes which is traditionally conferred upon the Civil Court under the Code of Civil Procedure  In support of his submission  he has relied upon Section  of the Code of Civil Procedure and a Full Bench judgment of this Court in the matter of Nand Kumar Rai   Others Vs  State of Bihar   Others  AIR  Patna       The Petition is contested by the State Government     Learned advocate Mr  Ram Kishore Singh has appeared for the State Government  He has relied upon Entry  of the State List of Schedule VII to the Constitution of India  the Bihar Tenancy Act   and the judgment in the matter of Smt  Basmati Devi Vs  Smt  Anju Kumari      PLJR    He  however  concedes that in the present case the Competent Authority has exceeded his jurisdiction     In view of challenge to the constitutional validity of the Act of   we have heard learned Principal Additional Advocate General  Mr  Lalit Kishore on behalf of the State Government  Mr  Lalit Kishore has contested the challenge to the constitutional validity of the Act of   He has taken us through the various provisions of the Act of   He has submitted that the Act empowers the Competent Authority to enforce the rights conferred by or accrued under the six enactments mentioned in Schedule I to the Act of   The power vested in the Competent Authority is  therefore  required to be read as confined to the enforcement of the rights conferred by or accrued under the aforesaid six enactments alone  and if so read  none of the provisions of the Act of  can be said to be unconstitutional  Mr  Lalit Kishore has submitted that the petitioners have not challenged a particular provision s of the Act of   but the challenge is general and vague  He has submitted that unless the State legislature lacks the legislative competence to make the enactment  the enactment cannot be said to be unconstitutional  He has further submitted that to challenge any provision as unconstitutional one has to establish contravention of the provisions contained in the Constitution  In the present case it is not the case of the petitioners that any of the provisions contained in the Act of  is unconstitutional in any manner  Mr  Lalit Kishore  span class  hidden_text  id  span_   Patna High Court CWJC No  of     dt       span  has next submitted that the provisions contained in the Act of  are specific and unambiguous  Such provisions are required to be interpreted as they are  The rule of construction of legal provisions does permit reference to the preamble of the enactment  but no provision can be held to be ultra vires the preamble of the enactment  Mr  Lalit Kishore has meticulously taken us through each provision particularly Section  and various clauses under Sub section    of Section  of the Act of      In support of his submissions  Mr  Lalit Kishore has relied upon the judgments of the Hon ble Supreme Court in the matters of M s Burrakur Coal Co  Ltd  Vs  The Union of India and Others  AIR  Supreme Court   Mohan Lal Vs  Kartar Singh and Others   Supp    Supreme Court Cases   Union of India Vs  Elphinstone Spinning and Weaving Co  Ltd  and Others     Supreme Court Cases   and Shiv Kumar Chadha Vs  Municipal Corporation of Delhi and Others      Supreme Court Cases       In the matter of M s Burrakur Coal Co  Ltd   supra  the very issue of interpretation of statute was the subject matter of consideration by the Constitutional Bench of the Hon ble Supreme Court  The Hon ble Court held   it is one of the cardinal principles of construction that where the language of an Act is clear  the preamble must be disregarded though  where the object or meaning of an enactment is not clear  the preamble may be resorted to explain it      We cannot  therefore  start with the preamble for construing the provisions of an Act  though  we would be justified in resorting to it  nay  we will be required to do so  if we find that the language used by Parliament is ambiguous or is too general though in point of  span class  hidden_text  id  span_   Patna High Court CWJC No  of     dt       span  fact Parliament intended that it should have a limited application      In the matter of Mohan Lal  supra  a similar provision for summary enquiry by collector was the subject matter of challenge before the Hon ble Supreme Court  The Hon ble Court observed   Though the enquiry is summary it is judicial in nature       Therefore  merely because the Collector acting under section  has to make a summary enquiry  it cannot be said that he can decide only simple questions as regards the nature of possession and not those questions which are complicated but have a bearing on the nature of possession      In the matter of Union of India  supra  challenge was directed to the Textile Undertakings  Taking Over of Management  Act    The Court observed   There is always a presumption that the legislature does not exceed its jurisdiction and the burden of establishing that the legislature has transgressed constitutional mandate  such as those relating to fundamental rights is always on the person who challenges its vires   The Hon ble Court further held   The Court must therefore adjudge the constitutionality of such legislation by the generality of its provisions and not by its crudities or inequities or by the possibilities of abuse of any of its provisions      In the matter of Shiv Kumar Chadha  supra  challenge was against the bar imposed upon the Civil Court to entertain matters under the Delhi Municipal Corporation Act       Learned advocate Ms  Kumari Ritambhara has appeared for the respondent no   plaintiff  She has supported the orders of the authorities below     True  the petitioners have not raised a specific challenge  span class  hidden_text  id  span_   Patna High Court CWJC No  of     dt       span  to a particular provision s  The challenge to the constitutional validity of the Act of  is too general and vague  The sole reliance is placed on the Full Bench judgment in the matter of Nand Kumar Rai   Others  supra   Mr  Yogendra Mishra appearing for the petitioners has failed to establish that any of the provisions of the Act of  is unconstitutional  nor it is the plea of Mr  Mishra that the Act of  has been enacted by the State legislature without the legislative competency  Nevertheless  I do feel that there are certain provisions in the Act of  which  strictly speaking though are not unconstitutional  do require reading down     As the Act of  is under challenge before us  we shall first examine the objects and reasons of the Act of  and its provisions     The preamble of the Act of  reads as under      WHEREAS  in the State of Bihar  disputes relating to record of rights  boundaries  entries in revenue records  unlawful occupation of raiyati land and forcible dispossession of allottees and settlees of public land  generate problems and cause unnecessary harassment to bona fide allotees settlees  raiyats or occupants   WHEREAS  such disputes with respect to raiyati land or public land allotted in favour of different classes of allottees are unnecessarily occupying major space of Civil Courts and Hon ble High Court and which should otherwise have been resolved by the Revenue Authorities  who may be better equipped to deal with such disputes having regard to their continued presence in the field offices and their expertise in  span class  hidden_text  id  span_   Patna High Court CWJC No  of     dt       span  Revenue Administration  WHEREAS  in larger public interest it is deemed necessary to provide for effective and speedy mechanism to resolve such disputes which give rise to major turbulence if not addressed immediately and effectively   AND  WHEREAS  it has been found in analysis of data relating to nature of disputes that they mostly appertain to matters connected with the Record of Rights  partition of jamabandi  forcible dispossession of allottees raiyats  boundary disputes etc  and in this context  the administration of the following Acts is involved                           The Bihar Land Reforms Act                                  The Bihar Tenancy Act                             The Bihar Privileged Persons Homestead Tenancy                           Act                                  The Bihar Bhoodan Yagna Act                              The Bihar Land Reforms  Fixation of Ceiling and                           Acquisition of Surplus Land  Act        The Bihar Consolidation of Holdings and Prevention of Fragmentation Act    AND  WHEREAS  different forums and procedures have been provided for the resolution of disputes under the above referred Acts and it is considered expedient to provide a uniform and common forum  procedure and mechanism which would achieve the objective of effective  efficacious and speedy resolution of disputes      Section  of the Act of  defines various terms and phrases used in the Act  Clause  a  defines    Competent Authority  shall be the Deputy Collector Land Reforms or any officer assigned to discharge the function and duties of the Deputy Collector Land Reforms in the Sub division   Clause  d  defines    Land  connotes Government land  raiyati land  with structure  if any   Clause  e  thereof defines    Allotted Land or Settled Land  connotes the land which is allotted or settled or on which raiyati rights have accrued under any of the Acts mentioned in Schedule  of this Act   Clause   f  thereof defines    Allottee or Settlee  connotes the person with whom land has been settled by the competent authority or the person who has acquired raiyati rights over the land  under any of the Acts contained in Schedule  of this Act   Clause  g  thereof defines   Raiyat  connotes a raiyat as defined under the provision of the Bihar Tenancy Act     Section  of the Act of  gives the Act of  overriding effect over the procedure prescribed under  i  The Bihar Land Reforms Act     ii  The Bihar Tenancy Act     iii  The Bihar Privileged Persons Homestead Tenancy Act     iv  The Bihar Bhoodan Yagna Act     v  The Bihar Land Reforms  Fixation of Ceiling and Acquisition of Surplus Land  Act     vi  The Bihar Consolidation of Holdings and Prevention of Fragmentation Act    Section  thereof provides for the jurisdiction of the Competent Authority  Sub section    thereof empowers the Competent Authority  interalia  to resolve the disputes arising out of   a  Unauthorised and unlawful dispossession of any settlee or allottee from any land or part thereof  settled with or allotted to him under any Act contained in Schedule  of this Act by issuance of any settlement document parcha by a Competent  span class  hidden_text  id  span_   Patna High Court CWJC No  of     dt       span  Authority   b  Restoration of possession of settled  allotted land in favour of legally entitled settlee  allottee or his successors heirs  upon adjudication of unauthorized and unlawful dispossession   c  Threatened dispossession of a legally entitled settllee allottee   d  Any of the matters enumerated in   a    b  and  c  above appertaining of raiyati land   e  Partition of land holding   f  Correction of entry made in the Record of Rights including map survey map   g  Declaration of the right of a person   h  Boundary disputes   i  Construction of unauthorized structure  and  j  Lis pendens transfer  Sub section    thereof imposes specific bar upon the Competent Authority in respect of the fresh rights of allottee settlee or a raiyat which is not yet determined and is required to be determined in accordance with the provisions contained in any of the aforesaid six enactments  Sub sections    to    thereof read as under         The Competent Authority shall not have jurisdiction to review or reopen any finally concluded and adjudicated proceeding under any of the Act contained in Schedule   The Competent Authority shall exercise his authority for resolving the dispute brought before him on the basis of any final order passed by any of the authorities empowered to do so in the Acts contained in Schedule  of this Act        The Competent Authority shall not have jurisdiction to adjudicate any fresh rights of allottee settlee or a raiyat which is not yet determined and is required to be determined in accordance with provisons contained in any of the  span class  hidden_text  id  span_   Patna High Court CWJC No  of     dt       span  Acts contained in Schedule    Provided that where rights of allottee settlee or raiyat are already determined under any of the Acts contained in Schedule   the Competent Authority shall have jurisdiction to entertain cases appertaining to matters enumerated in sub  section           Notwithstanding anything contained in sub  section    and    hereinabove  if no provision is made in any of the Acts contained in Schedule  for determination of rights of allottee  settlee or raiyat and claimed right is yet to be determined  it shall be open to the Competent Authority to finally determine such right        The Competent Authority  wherever it appears to him that the case instituted before him involves complex question of adjudication of title  he shall close the proceeding and leave it open to parties to seek remedies before the competent Civil Court      Section  of the Act confers certain powers of Civil Court upon the Competent Authority  Section  of the Act provides   in all cases of civil nature  concerning a land or a portion thereof  and in which one of the parties to the case is an allottee or settlee under Section  of the Act  the State shall be a necessary party   Section  of the Act enjoins the Competent Authority to dispose of all cases summarily in accordance with the Act and Rules framed thereunder  Section  of the Act provides for expeditious resolution of disputes  Section  of the Act empowers the Collector to exercise power of supervision and control over the  span class  hidden_text  id  span_   Patna High Court CWJC No  of     dt       span  Competent Authority  Section  of the Act enjoins the Competent Authority to execute its orders  Section  of the Act confers power  interalia  of attachment of the standing crop upon the Competent Authority  It is apparent that the Act of  has been enacted with a laudable purpose of giving quick relief to the allottees and settlees who have earned a right or to whom a right has accrued under any of the aforesaid six enactments  That is why Section  of the Act of  gives that Act overriding effect over the procedure prescribed under any of the said six enactments  Thus  in my view  the scope and ambit of the Act of  is limited and is circumscribed to the extent of enforcement of rights conferred by or accrued under the aforesaid six enactments  In other words  it is an enactment for execution of the orders made under the above referred six enactments  This intention is reinforced by Sub section   of Section  of the Act of  insofar as it expressly provides   Competent Authority shall exercise his authority for resolving the dispute brought before him on basis of any final order passed by any of the authorities empowered to do so under the Acts contained in Schedule  of the Act   Similarly  Sub section    thereof expressly prohibits the Competent Authority from exercising its jurisdiction to adjudicate any fresh rights of allottee or settlee or a raiyat not yet determined under any of the aforesaid six enactments  Thus  the legislative intent to confine the Act of  to execution of the orders made under the aforesaid six enactments is clear and unambiguous  Having thus circumscribed the powers of the Competent Authority under the Act of   the mischief has crept in in Sub sections         of Section  of the Act of   The said Sub section    of Section  of the Act of  enables the  span class  hidden_text  id  span_   Patna High Court CWJC No  of     dt       span  Competent Authority to determine the rights of allottees or settlees or raiyats which are not yet determined  Similarly  Sub section    of Section  of the Act of  confers a discretionary power upon the Competent Authority either to adjudicate complex questions of title himself or to allow the parties to seek remedy before the Civil Court  But for Section    of the Act of   the Competent Authority is not vested with power of adjudication under any of the other provisions of the Act of   The Act which is designed to execute the orders made or to enforce the rights accrued under any of the aforesaid six enactments  has been converted into a substantive or adjudicating enactment by Section    of the Act of   The power of adjudication conferred under the aforesaid Sub  sections         of Section  of the Act of  are largely misused  The power  which is confined to the disputes in relation to the allottees or settlees or raiyats  is exercised in respect of any dispute including the complex issues of title  Though there is no express bar against the jurisdiction of the Civil Court  the said sub  sections practically take away the jurisdiction of the Civil Court to entertain and adjudicate the disputes relating to the title to the land     It is apparent that the Act of  has been enacted with an intention to give immediate relief to the allottees and the settlees whose rights are crystallized under any of the six enactments mentioned in Schedule  to the Act of   It is  therefore  necessary that any person approaching the Competent Authority under the Act of  must have a right settled or accrued to him or her under any of the aforesaid six enactments  In other words  the plaintiff has to be the allottee or a settlee of the land under any of the aforesaid six enactments and seeks enforcement of a right crystallized in favour of the plaintiff or accrued to the plaintiff  span class  hidden_text  id  span_   Patna High Court CWJC No  of     dt       span  under any of the aforesaid six enactments  It is such a claim alone which can be entertained by the Competent Authority under the Act of   This opinion of mine is corroborated by Section  of the Act which makes it mandatory that in all such cases the State Government shall be a necessary party  The preamble of the Act is clear and discloses the intention of the legislature in enacting the Act of   It says   disputes with respect to raiyati land or public land allotted in favour of different classes of allottees              Preamble of the Act of  further refers to disputes in relation to   the Record of Rights  partition of jamabandi  forcible dispossession of allottees  raiyats  boundary disputes etc   In context of the above referred six enactments  Section  of the Act of  gives the overriding effect to the Act of  in respect of the procedure prescribed in the above referred six enactments This seemingly unfettered and unbridled power of adjudication has been misused by the Competent Authority to resolve disputes of title to the land which traditionally are required to be resolved by a Civil Court  In the present case  the respondent no    the plaintiff  asserted her right to land under a sale deed  Neither she is an allottee nor a settlee nor does the dispute arise from any right crystallized or accrued under any of the aforesaid six enactments  The Competent Authority has clearly exceeded his jurisdiction and has usurped the jurisdiction of the Civil Court     Incongruity in legislative drafting of sub sections         of Section  of the Act of  is evident  But then  that is the way the legislature functions  On one hand Sub section    of Section  of the Act of  expressly debars the Competent Authority from adjudicating any fresh rights of allottee  settlee or a  span class  hidden_text  id  span_   Patna High Court CWJC No  of     dt       span  raiyat which is not determined or which is required to be determined in accordance with the provisions contained in any of the aforesaid six enactments  On the other hand  in stark contradiction  sub section    of Section  of the Act of  enables the Competent Authority to finally determine the rights of allottee  settlee or raiyat not yet determined  It is this sub section    which is the mischief monger  Although it refers to the rights of allottee  settlee or raiyat  the broad language used by the legislature is largely misused to usurp the power not conferred by the Act of  and to determine the rights claimed by the persons other than allottee  settlee or raiyat and the rights claimed outside any of the aforesaid six enactments  This wide amplitude granted under sub  section    calls for intervention by this Court and reading down of the sub section    to bring it in consonance with the other provisions of the Act of      Similarly  sub section    of Section  of the Act of  also is a mischief monger  Once jurisdiction of the Competent Authority is confined to the execution of the orders made or enforcement of rights accrued under any of the aforesaid six enactments  sub section    of Section  of the Act of   by necessary implication  allows the Competent Authority to entertain matters not arising out of the aforesaid six enactments and issues invoking complex questions of adjudication of title  The complex issues of title can never be decided in a summary proceeding envisaged by the Act of   The said sub section    also has the tendency to convert the power of execution of orders into the power of adjudication  The said sub section    also requires to be read down to bring it in consonance with the other provisions contained in the Act of      A Full Bench of this Court in the matter of Nand Kumar Rai  supra  had the occasion to examine the constitutional validity of Section  of the Bihar Tenancy Act   as it stood after its amendment under the Act  of   It appears that under the said amendment the legislature barred the jurisdiction of the Civil Court in respect of any application or suit concerning the preparation or publication of record or rights or settlement of rent or preparation of Settlement Rent Roll or for alteration of any entry in any such record or for the determination of the incidents of any tenancy     The said enactment was challenged on the ground that it was a fraud on the legislative power of the State and was enacted in colourable exercise of that power and that the impugned provisions were arbitrary  The Bench held that clause  d  of sub section    and sub section    of Section  of the Act introduced by Bihar Act  of  were constitutionally invalid  The said clause  d  of sub  section    and sub section    of Section  of the Act barred the jurisdiction of the Civil Court in the following terms       d  for declaration of title to or recovery of possession of or confirmation of possession over any holding or tenancy or part thereof in which correctness of any entry in any such record or roll is expressly or impliedly challenged or in which determination of incidents of any tenancy is involved        Suit for declaration of title to or recovery of possession of or confirmation of possession over any holding or tenancy or part thereof  in which correctness of any entry in any record of rights or  span class  hidden_text  id  span_   Patna High Court CWJC No  of     dt       span  Settlement Rent roll is expressly or impliedly challenged or in which determination of incidents of any tenancy is involved may be instituted before the Collector or any Revenue Officer specially empowered by the State Government by notification in this behalf who shall dispose of the suit in the prescribed manner      The Bench held   It is difficult to conceive how complicated title suits would be speedily and summarily disposed of by Revenue Courts and how the under raiyats would be benefited thereby  I can take judicial notice of the fact that a large number of title suits have been filed throughout the State of Bihar wherever Revisional Survey operations have taken place  I am also aware that the number of Civil Courts is too small to dispose of such large number of title suits  I am  however  also aware of the fact that the number of Revenue Courts is also not sufficient  rather too small to dispose of such a large number of complicated title suits  They will be simply unable to decide them unless they technically choose to literally dispose of the suits by any means  no Court by a judicial approach will be above to dispose of such a large number of suits  I am  however  not concerned with the wisdom behind this legislation  I am concerned merely with its constitutional validity  In procedural matter suits of lighter vein have been allowed to be brought to the High Court and complicated suits  span class  hidden_text  id  span_   Patna High Court CWJC No  of     dt       span  are to be finally disposed of by the Revenue authorities  I also do not see any justification for making a distinction between title suits for declaration of title and possession and suits of other types such a partition or mortgage suits      In my opinion  a similar mischief is found in the Act of  where the competent authority is allowed to entertain and summarily decide the rights which are not crystallized under any of the aforesaid six enactments and to entertain and decide complex issues of title to the land under sub sections         of Section  of the Act of   The Act of  is clear and explicit insofar as its scope and ambit are concerned  It is repeatedly emphasized that the Act of  has been enacted for enforcement of a right conferred by or accrued under the above referred six enactments  It would not be out of place to note that all the above referred six enactments relate to land reforms and are pretty old  The said Acts are in force for more than fifty years  Most of the issues must have been settled by now  It may be only residuary matters which may still require to be adjudicated enforced  No claim to a property or a dispute relating to a property can be entertained or decided by the Competent Authority under the Act of  to resolve disputes other than the ones arising from the above referred six enactments     In my opinion  clause  e  of Sub section    of Section  of the Act of  which reads   Partition of land  has to be read as the dispute relating to the land allotted or settled under any of the above referred six enactments and the claim made by an allottee  a settlee or a Raiyat  The said clause  e  will not cover each and every issue relating to any land and the partition between the co sharers   span class  hidden_text  id  span_   Patna High Court CWJC No  of     dt       span  co parceners  joint owners etc  of such land  Similarly  clause  g  of Sub section    of Section  of the Act of  which provides for  Declaration of the right of a person  also requires to be read down  Again the right referred to in the said clause  g  has to be a right conferred by or accrued under any of the aforesaid six enactments and none other   A person  would mean an allottee  a settlee of a land or a Raiyat as defined in clause  f  of Section  of the Act of   No person other than an allottee  a settlee or a Raiyat can have an access to the remedy under the Act of   Clause  i  of Sub section    of Section  of the Act of  which refers to  Construction of unauthorized structure  should also be read down to mean the construction of unauthorized structure on the land of a Raiyat allotted or settled under any of the above referred six enactments and no other land or structure  Clause  j  of Sub  section    of Section  of the Act of  is clearly outside the purview of the any of the above referred six enactments  The principle of lis pendence transfer is necessarily applicable to a civil litigation  If at all  its reference in the Act of  would necessarily mean the transfer of the land of a Raiyat or a settlee allotted or settled under any of the aforesaid six enactments pending the adjudication under the concerned Act  In our opinion  the power of the Competent Authority under the Act of  cannot be read to be wide enough to enfold in its embrace all kinds of disputes relating to any land     In my opinion  Sub section    of Section  of the Act of  brings a complete anachronism as it has the effect of encompassing in its folds any real or imaginary right an allottee or a settlee or a Raiyat can claim which is not conferred by any of the aforesaid six enactments  That would necessarily mean that the  span class  hidden_text  id  span_   Patna High Court CWJC No  of     dt       span  rights which are not conferred by or accrued under the above referred six enactments also can be adjudicated by the Competent Authority under the Act of   This wide power conferred upon the Competent Authority is unbridled  unfettered and unguided  As we have seen on the facts of the present case that they are grossly abused  It is not possible to save the said Sub section    of Section  of the Act of  by employing the principle of harmonious interpretation  The said Sub section    requires to be held to arbitrary and to that extent unconstitutional     Sub section    of Section  of the Act of  empowers the Competent Authority to allow the parties to approach the Civil Court for adjudication of complex issues of title  Although the said Sub section    is directory  should be read as mandatory  It shall be the duty of the Competent Authority to refer the complex issues of adjudication of title to the concerned Civil Court having jurisdiction to entertain and adjudicate such disputes     For the aforesaid reasons  this Petition is allowed  Clauses  e    g    i  and  j  of Sub section    of Section  of the Act of  are read down to the extent indicated hereinabove  Sub  section    of Section  of the Act of  is held to be arbitrary and ultra vires Article  of the Constitution and unconstitutional to that extent  The said Sub section    of Section  is  therefore  quashed  Sub section    of Section  of the Act of  will be read as mandatory provision as indicated hereinabove     The impugned order dated th December  made by the Competent Authority cum Deputy Collector Land Reforms  Forbesganj in B L D R  Act Case No   of   is quashed and set aside  Consequently  the appellate order made on th August  made by the Divisional Commissioner  Purnea in Land  span class  hidden_text  id  span_   Patna High Court CWJC No  of     dt       span  Dispute Appeal No   of  stands quashed  The B L D R  Act Case No   of   filed before the Competent Authority cum  Deputy Collector Land Reforms  Forbesganj is dismissed  The respondent no   will bear the costs throughout     It is clarified that this order shall not preclude the respondent no    the plaintiff  from asserting her right to the disputed parcels of land before the Civil Court     Interlocutory application stands disposed of      R M  Doshit  CJ  As per Ashwani Kumar Singh  J I have had the privilege and advantage of perusing the judgment of Hon ble the Chief Justice  Since Hon ble the Chief Justice has extensively dealt with the facts and law involved in the matter  I need not repeat the same     I fully concur with the view of Hon ble the Chief Justice with regard to Sub sections    and    of Section  of The Bihar Land Disputes Resolution Act    for short  the Act of     The Hon ble Chief Justice has held that the Act of  is an enactment for execution of the orders made under the six enactments referred to in the preamble and schedule I of the Act of   she has further held that but for Section  of the Act of   the Competent Authority is not vested with the power of adjudication under any of the other provisions of the Act of   and the Act which is designed to execute the orders made under the aforesaid six enactments  converts the Competent Authority into an adjudicating Court by dint of Section  of the Act of   I am in  span class  hidden_text  id  span_   Patna High Court CWJC No  of     dt       span  complete agreement with the aforesaid view of Hon ble the Chief Justice  I also agree with the view that Sub section    of Section  of the Act mandatorily requires the Competent Authority to allow the parties to approach the Civil Court for adjudication of complex issues of title     However  I am unable to resist from adding some of my own observations in the context of the provisions of Sub section    of Section  of the Act of   Sub section    of Section  of the Act of  reads as follows        The Competent Authority  wherever it appears to him that the case instituted before him involves complex question of adjudication of title  he shall close the proceeding and leave it open to parties to seek remedies before the competent Civil Court      The group of words  complex question of adjudication of title  which form part of the sentence in Sub   section    of Section  of the Act of  has been used as a phrase in the said provision  While incorporating the aforesaid group of words as a phrase in Sub section     the legislature itself says that all cases involving issues of title per se involve complex questions and which cannot be decided in a summary proceeding  being the ambit and scope of the Act of   and thus under all circumstances where issues relating to title arise would have to be mandatorily closed by the Competent Authority     In other words  the said phrase occurring in sub section    of Section  of the Act of  envisages that no sooner than a question of adjudication of title which is inherently a complex one is involved  the Competent Authority is required to invariably close the proceeding  The word  complex  has not been used in  span class  hidden_text  id  span_   Patna High Court CWJC No  of     dt       span  contradistinction to the word  simple      In above view of the matter  I am of the considered opinion that Sub section    of Section  of the Act of  strictly forbids the Competent Authority to entertain matters involving questions of adjudication of title  I am of the view that the Competent Authority  irrespective of nature of cases involving issues of title  is bound to close the proceedings for want of jurisdiction and leave it open to the parties to seek remedies before the competent Civil Court     In the result  subject to the aforesaid observations of mine  I fully agree with the findings and conclusions arrived at by Hon ble the Chief Justice in the matter      Ashwani Kumar Singh  J   AFR Manish SanjeetLand PropertyHigh_CourtPatna High Court'"
      ]
     },
     "execution_count": 14,
     "metadata": {},
     "output_type": "execute_result"
    }
   ],
   "source": [
    "dataframe.iloc[0][0]"
   ]
  },
  {
   "cell_type": "code",
   "execution_count": 9,
   "id": "fe98ebe2-7c91-4fb5-9fcb-5f749338e4e0",
   "metadata": {},
   "outputs": [],
   "source": [
    "from spacy.tokens import Span\n",
    "import json"
   ]
  },
  {
   "cell_type": "code",
   "execution_count": 10,
   "id": "121c2920-57cd-4ec2-80db-bdc3cad5a1f7",
   "metadata": {},
   "outputs": [],
   "source": [
    "# Load SpaCy model\n",
    "nlp = spacy.load(\"en_core_web_sm\")\n",
    "\n",
    "# Function to annotate entities\n",
    "def annotate_entities(data):\n",
    "    annotations = []\n",
    "    for sentence in data:\n",
    "        doc = nlp(sentence)\n",
    "        print(f\"\\nSentence: {sentence}\")\n",
    "        print(\"Recognized entities by SpaCy:\")\n",
    "        for ent in doc.ents:\n",
    "            print(f\"  {ent.text} ({ent.label_})\")\n",
    "        \n",
    "        # Manual annotation\n",
    "        entities = []\n",
    "        while True:\n",
    "            entity = input(\"Enter entity (or press enter to finish): \")\n",
    "            if not entity:\n",
    "                break\n",
    "            start = sentence.find(entity)\n",
    "            end = start + len(entity)\n",
    "            label = input(f\"Enter label for '{entity}': \")\n",
    "            entities.append((start, end, label))\n",
    "        \n",
    "        # Add annotated entities to document\n",
    "        spans = [Span(doc, start, end, label=label) for start, end, label in entities]\n",
    "        doc.ents = spans\n",
    "        \n",
    "        annotations.append({\n",
    "            \"text\": sentence,\n",
    "            \"entities\": [(start, end, label) for start, end, label in entities]\n",
    "        })\n",
    "    \n",
    "    return annotations"
   ]
  },
  {
   "cell_type": "code",
   "execution_count": 12,
   "id": "e3f39ca2-8ed1-481e-a70f-52aecae8c298",
   "metadata": {},
   "outputs": [
    {
     "name": "stdout",
     "output_type": "stream",
     "text": [
      "\n",
      "Sentence: rowsentence\n",
      "Recognized entities by SpaCy:\n"
     ]
    },
    {
     "name": "stdin",
     "output_type": "stream",
     "text": [
      "Enter entity (or press enter to finish):  rowsentence\n",
      "Enter label for 'rowsentence':  title\n",
      "Enter entity (or press enter to finish):  \n"
     ]
    },
    {
     "ename": "IndexError",
     "evalue": "[E035] Error creating span with start 0 and end 11 for Doc of length 1.",
     "output_type": "error",
     "traceback": [
      "\u001b[1;31m---------------------------------------------------------------------------\u001b[0m",
      "\u001b[1;31mIndexError\u001b[0m                                Traceback (most recent call last)",
      "Cell \u001b[1;32mIn[12], line 3\u001b[0m\n\u001b[0;32m      1\u001b[0m \u001b[38;5;66;03m# Annotate data\u001b[39;00m\n\u001b[1;32m----> 3\u001b[0m annotations \u001b[38;5;241m=\u001b[39m \u001b[43mannotate_entities\u001b[49m\u001b[43m(\u001b[49m\u001b[43mdataframe\u001b[49m\u001b[43m)\u001b[49m\n",
      "Cell \u001b[1;32mIn[10], line 26\u001b[0m, in \u001b[0;36mannotate_entities\u001b[1;34m(data)\u001b[0m\n\u001b[0;32m     23\u001b[0m     entities\u001b[38;5;241m.\u001b[39mappend((start, end, label))\n\u001b[0;32m     25\u001b[0m \u001b[38;5;66;03m# Add annotated entities to document\u001b[39;00m\n\u001b[1;32m---> 26\u001b[0m spans \u001b[38;5;241m=\u001b[39m [Span(doc, start, end, label\u001b[38;5;241m=\u001b[39mlabel) \u001b[38;5;28;01mfor\u001b[39;00m start, end, label \u001b[38;5;129;01min\u001b[39;00m entities]\n\u001b[0;32m     27\u001b[0m doc\u001b[38;5;241m.\u001b[39ments \u001b[38;5;241m=\u001b[39m spans\n\u001b[0;32m     29\u001b[0m annotations\u001b[38;5;241m.\u001b[39mappend({\n\u001b[0;32m     30\u001b[0m     \u001b[38;5;124m\"\u001b[39m\u001b[38;5;124mtext\u001b[39m\u001b[38;5;124m\"\u001b[39m: sentence,\n\u001b[0;32m     31\u001b[0m     \u001b[38;5;124m\"\u001b[39m\u001b[38;5;124mentities\u001b[39m\u001b[38;5;124m\"\u001b[39m: [(start, end, label) \u001b[38;5;28;01mfor\u001b[39;00m start, end, label \u001b[38;5;129;01min\u001b[39;00m entities]\n\u001b[0;32m     32\u001b[0m })\n",
      "Cell \u001b[1;32mIn[10], line 26\u001b[0m, in \u001b[0;36m<listcomp>\u001b[1;34m(.0)\u001b[0m\n\u001b[0;32m     23\u001b[0m     entities\u001b[38;5;241m.\u001b[39mappend((start, end, label))\n\u001b[0;32m     25\u001b[0m \u001b[38;5;66;03m# Add annotated entities to document\u001b[39;00m\n\u001b[1;32m---> 26\u001b[0m spans \u001b[38;5;241m=\u001b[39m [\u001b[43mSpan\u001b[49m\u001b[43m(\u001b[49m\u001b[43mdoc\u001b[49m\u001b[43m,\u001b[49m\u001b[43m \u001b[49m\u001b[43mstart\u001b[49m\u001b[43m,\u001b[49m\u001b[43m \u001b[49m\u001b[43mend\u001b[49m\u001b[43m,\u001b[49m\u001b[43m \u001b[49m\u001b[43mlabel\u001b[49m\u001b[38;5;241;43m=\u001b[39;49m\u001b[43mlabel\u001b[49m\u001b[43m)\u001b[49m \u001b[38;5;28;01mfor\u001b[39;00m start, end, label \u001b[38;5;129;01min\u001b[39;00m entities]\n\u001b[0;32m     27\u001b[0m doc\u001b[38;5;241m.\u001b[39ments \u001b[38;5;241m=\u001b[39m spans\n\u001b[0;32m     29\u001b[0m annotations\u001b[38;5;241m.\u001b[39mappend({\n\u001b[0;32m     30\u001b[0m     \u001b[38;5;124m\"\u001b[39m\u001b[38;5;124mtext\u001b[39m\u001b[38;5;124m\"\u001b[39m: sentence,\n\u001b[0;32m     31\u001b[0m     \u001b[38;5;124m\"\u001b[39m\u001b[38;5;124mentities\u001b[39m\u001b[38;5;124m\"\u001b[39m: [(start, end, label) \u001b[38;5;28;01mfor\u001b[39;00m start, end, label \u001b[38;5;129;01min\u001b[39;00m entities]\n\u001b[0;32m     32\u001b[0m })\n",
      "File \u001b[1;32m~\\anaconda3\\envs\\spacy_nlp\\lib\\site-packages\\spacy\\tokens\\span.pyx:102\u001b[0m, in \u001b[0;36mspacy.tokens.span.Span.__cinit__\u001b[1;34m()\u001b[0m\n",
      "\u001b[1;31mIndexError\u001b[0m: [E035] Error creating span with start 0 and end 11 for Doc of length 1."
     ]
    }
   ],
   "source": [
    "# Annotate data\n",
    "\n",
    "annotations = annotate_entities(dataframe)"
   ]
  },
  {
   "cell_type": "code",
   "execution_count": null,
   "id": "de5277ff-cd5f-43ef-a4bb-8cd0c74c2446",
   "metadata": {},
   "outputs": [],
   "source": [
    "# Save annotations to file\n",
    "with open(r\"\\C:\\Users\\pm307\\Desktop\\NLP\\legal_NER\\annotations.json\", \"w\") as f:\n",
    "    json.dump(annotations, f, indent=4)"
   ]
  },
  {
   "cell_type": "code",
   "execution_count": null,
   "id": "01d62b98-ce05-4154-8605-8863874a420e",
   "metadata": {},
   "outputs": [],
   "source": []
  },
  {
   "cell_type": "code",
   "execution_count": null,
   "id": "53a98e52-93f3-4c2d-a9a8-329a0c5647c5",
   "metadata": {},
   "outputs": [],
   "source": []
  },
  {
   "cell_type": "code",
   "execution_count": 48,
   "id": "357ed766-101e-4e0f-82e1-41108d22a757",
   "metadata": {},
   "outputs": [],
   "source": [
    "\n",
    "\n",
    "\n",
    "# Function to tokenize text\n",
    "def tokenize_text(text):\n",
    "    sentences = nltk.sent_tokenize(text)\n",
    "    words = [nltk.word_tokenize(sentence) for sentence in sentences]\n",
    "    return sentences, words\n"
   ]
  },
  {
   "cell_type": "code",
   "execution_count": null,
   "id": "5dd2a37f-7154-4d9b-aff1-3bff76c077a0",
   "metadata": {},
   "outputs": [],
   "source": [
    "combinedataset['rowsentence']\n"
   ]
  },
  {
   "cell_type": "code",
   "execution_count": 50,
   "id": "baaa53ff-d875-4ded-8fba-79ef0cd42475",
   "metadata": {},
   "outputs": [],
   "source": [
    "# Assuming `tokenize_text` returns a tuple of (sentences, words) for each row\n",
    "results = combinedataset['rowsentence'].apply(tokenize_text).tolist()\n",
    "\n",
    "\n"
   ]
  },
  {
   "cell_type": "code",
   "execution_count": 52,
   "id": "1e7d587c-4a4f-45cb-b87d-5ad111a017c8",
   "metadata": {},
   "outputs": [
    {
     "data": {
      "text/plain": [
       "11970"
      ]
     },
     "execution_count": 52,
     "metadata": {},
     "output_type": "execute_result"
    }
   ],
   "source": [
    "len(results)"
   ]
  },
  {
   "cell_type": "code",
   "execution_count": 70,
   "id": "3778aec3-43f3-48e4-8827-f518f5ac3f1f",
   "metadata": {},
   "outputs": [
    {
     "data": {
      "text/plain": [
       "1"
      ]
     },
     "execution_count": 70,
     "metadata": {},
     "output_type": "execute_result"
    }
   ],
   "source": [
    "len(results[0][1])"
   ]
  },
  {
   "cell_type": "code",
   "execution_count": 82,
   "id": "242a84a4-cb10-4a42-a3f2-4d161a9b6492",
   "metadata": {},
   "outputs": [],
   "source": [
    "sampledf=pd.DataFrame()"
   ]
  },
  {
   "cell_type": "code",
   "execution_count": 88,
   "id": "62b2eefb-a96c-48ff-a965-4e18afba9285",
   "metadata": {},
   "outputs": [],
   "source": [
    "sampledf['sentences'], sampledf['words'] = zip(results[0])"
   ]
  },
  {
   "cell_type": "code",
   "execution_count": 90,
   "id": "5269b8e7-7154-4e1a-a22b-fb2c30944a4b",
   "metadata": {},
   "outputs": [
    {
     "data": {
      "text/html": [
       "<div>\n",
       "<style scoped>\n",
       "    .dataframe tbody tr th:only-of-type {\n",
       "        vertical-align: middle;\n",
       "    }\n",
       "\n",
       "    .dataframe tbody tr th {\n",
       "        vertical-align: top;\n",
       "    }\n",
       "\n",
       "    .dataframe thead th {\n",
       "        text-align: right;\n",
       "    }\n",
       "</style>\n",
       "<table border=\"1\" class=\"dataframe\">\n",
       "  <thead>\n",
       "    <tr style=\"text-align: right;\">\n",
       "      <th></th>\n",
       "      <th>sentences</th>\n",
       "      <th>words</th>\n",
       "    </tr>\n",
       "  </thead>\n",
       "  <tbody>\n",
       "    <tr>\n",
       "      <th>0</th>\n",
       "      <td>[Maheshwar Mandal   Anr vs The State Of Bihar ...</td>\n",
       "      <td>[[Maheshwar, Mandal, Anr, vs, The, State, Of, ...</td>\n",
       "    </tr>\n",
       "  </tbody>\n",
       "</table>\n",
       "</div>"
      ],
      "text/plain": [
       "                                           sentences  \\\n",
       "0  [Maheshwar Mandal   Anr vs The State Of Bihar ...   \n",
       "\n",
       "                                               words  \n",
       "0  [[Maheshwar, Mandal, Anr, vs, The, State, Of, ...  "
      ]
     },
     "execution_count": 90,
     "metadata": {},
     "output_type": "execute_result"
    }
   ],
   "source": [
    "sampledf.head()"
   ]
  },
  {
   "cell_type": "code",
   "execution_count": 78,
   "id": "cdbbf0e3-c1f3-498b-9b27-87dbe8b6a836",
   "metadata": {},
   "outputs": [
    {
     "ename": "TypeError",
     "evalue": "ForwardRef._evaluate() missing 1 required keyword-only argument: 'recursive_guard'",
     "output_type": "error",
     "traceback": [
      "\u001b[1;31m---------------------------------------------------------------------------\u001b[0m",
      "\u001b[1;31mTypeError\u001b[0m                                 Traceback (most recent call last)",
      "Cell \u001b[1;32mIn[78], line 1\u001b[0m\n\u001b[1;32m----> 1\u001b[0m \u001b[38;5;28;01mimport\u001b[39;00m \u001b[38;5;21;01mspacy\u001b[39;00m\n",
      "File \u001b[1;32m~\\anaconda3\\Lib\\site-packages\\spacy\\__init__.py:13\u001b[0m\n\u001b[0;32m     10\u001b[0m \u001b[38;5;66;03m# These are imported as part of the API\u001b[39;00m\n\u001b[0;32m     11\u001b[0m \u001b[38;5;28;01mfrom\u001b[39;00m \u001b[38;5;21;01mthinc\u001b[39;00m\u001b[38;5;21;01m.\u001b[39;00m\u001b[38;5;21;01mapi\u001b[39;00m \u001b[38;5;28;01mimport\u001b[39;00m Config, prefer_gpu, require_cpu, require_gpu  \u001b[38;5;66;03m# noqa: F401\u001b[39;00m\n\u001b[1;32m---> 13\u001b[0m \u001b[38;5;28;01mfrom\u001b[39;00m \u001b[38;5;21;01m.\u001b[39;00m \u001b[38;5;28;01mimport\u001b[39;00m pipeline  \u001b[38;5;66;03m# noqa: F401\u001b[39;00m\n\u001b[0;32m     14\u001b[0m \u001b[38;5;28;01mfrom\u001b[39;00m \u001b[38;5;21;01m.\u001b[39;00m \u001b[38;5;28;01mimport\u001b[39;00m util\n\u001b[0;32m     15\u001b[0m \u001b[38;5;28;01mfrom\u001b[39;00m \u001b[38;5;21;01m.\u001b[39;00m\u001b[38;5;21;01mabout\u001b[39;00m \u001b[38;5;28;01mimport\u001b[39;00m __version__  \u001b[38;5;66;03m# noqa: F401\u001b[39;00m\n",
      "File \u001b[1;32m~\\anaconda3\\Lib\\site-packages\\spacy\\pipeline\\__init__.py:1\u001b[0m\n\u001b[1;32m----> 1\u001b[0m \u001b[38;5;28;01mfrom\u001b[39;00m \u001b[38;5;21;01m.\u001b[39;00m\u001b[38;5;21;01mattributeruler\u001b[39;00m \u001b[38;5;28;01mimport\u001b[39;00m AttributeRuler\n\u001b[0;32m      2\u001b[0m \u001b[38;5;28;01mfrom\u001b[39;00m \u001b[38;5;21;01m.\u001b[39;00m\u001b[38;5;21;01mdep_parser\u001b[39;00m \u001b[38;5;28;01mimport\u001b[39;00m DependencyParser\n\u001b[0;32m      3\u001b[0m \u001b[38;5;28;01mfrom\u001b[39;00m \u001b[38;5;21;01m.\u001b[39;00m\u001b[38;5;21;01medit_tree_lemmatizer\u001b[39;00m \u001b[38;5;28;01mimport\u001b[39;00m EditTreeLemmatizer\n",
      "File \u001b[1;32m~\\anaconda3\\Lib\\site-packages\\spacy\\pipeline\\attributeruler.py:8\u001b[0m\n\u001b[0;32m      6\u001b[0m \u001b[38;5;28;01mfrom\u001b[39;00m \u001b[38;5;21;01m.\u001b[39;00m\u001b[38;5;21;01m.\u001b[39;00m \u001b[38;5;28;01mimport\u001b[39;00m util\n\u001b[0;32m      7\u001b[0m \u001b[38;5;28;01mfrom\u001b[39;00m \u001b[38;5;21;01m.\u001b[39;00m\u001b[38;5;21;01m.\u001b[39;00m\u001b[38;5;21;01merrors\u001b[39;00m \u001b[38;5;28;01mimport\u001b[39;00m Errors\n\u001b[1;32m----> 8\u001b[0m \u001b[38;5;28;01mfrom\u001b[39;00m \u001b[38;5;21;01m.\u001b[39;00m\u001b[38;5;21;01m.\u001b[39;00m\u001b[38;5;21;01mlanguage\u001b[39;00m \u001b[38;5;28;01mimport\u001b[39;00m Language\n\u001b[0;32m      9\u001b[0m \u001b[38;5;28;01mfrom\u001b[39;00m \u001b[38;5;21;01m.\u001b[39;00m\u001b[38;5;21;01m.\u001b[39;00m\u001b[38;5;21;01mmatcher\u001b[39;00m \u001b[38;5;28;01mimport\u001b[39;00m Matcher\n\u001b[0;32m     10\u001b[0m \u001b[38;5;28;01mfrom\u001b[39;00m \u001b[38;5;21;01m.\u001b[39;00m\u001b[38;5;21;01m.\u001b[39;00m\u001b[38;5;21;01mscorer\u001b[39;00m \u001b[38;5;28;01mimport\u001b[39;00m Scorer\n",
      "File \u001b[1;32m~\\anaconda3\\Lib\\site-packages\\spacy\\language.py:43\u001b[0m\n\u001b[0;32m     41\u001b[0m \u001b[38;5;28;01mfrom\u001b[39;00m \u001b[38;5;21;01m.\u001b[39;00m\u001b[38;5;21;01mlang\u001b[39;00m\u001b[38;5;21;01m.\u001b[39;00m\u001b[38;5;21;01mtokenizer_exceptions\u001b[39;00m \u001b[38;5;28;01mimport\u001b[39;00m BASE_EXCEPTIONS, URL_MATCH\n\u001b[0;32m     42\u001b[0m \u001b[38;5;28;01mfrom\u001b[39;00m \u001b[38;5;21;01m.\u001b[39;00m\u001b[38;5;21;01mlookups\u001b[39;00m \u001b[38;5;28;01mimport\u001b[39;00m load_lookups\n\u001b[1;32m---> 43\u001b[0m \u001b[38;5;28;01mfrom\u001b[39;00m \u001b[38;5;21;01m.\u001b[39;00m\u001b[38;5;21;01mpipe_analysis\u001b[39;00m \u001b[38;5;28;01mimport\u001b[39;00m analyze_pipes, print_pipe_analysis, validate_attrs\n\u001b[0;32m     44\u001b[0m \u001b[38;5;28;01mfrom\u001b[39;00m \u001b[38;5;21;01m.\u001b[39;00m\u001b[38;5;21;01mschemas\u001b[39;00m \u001b[38;5;28;01mimport\u001b[39;00m (\n\u001b[0;32m     45\u001b[0m     ConfigSchema,\n\u001b[0;32m     46\u001b[0m     ConfigSchemaInit,\n\u001b[1;32m   (...)\u001b[0m\n\u001b[0;32m     49\u001b[0m     validate_init_settings,\n\u001b[0;32m     50\u001b[0m )\n\u001b[0;32m     51\u001b[0m \u001b[38;5;28;01mfrom\u001b[39;00m \u001b[38;5;21;01m.\u001b[39;00m\u001b[38;5;21;01mscorer\u001b[39;00m \u001b[38;5;28;01mimport\u001b[39;00m Scorer\n",
      "File \u001b[1;32m~\\anaconda3\\Lib\\site-packages\\spacy\\pipe_analysis.py:6\u001b[0m\n\u001b[0;32m      3\u001b[0m \u001b[38;5;28;01mfrom\u001b[39;00m \u001b[38;5;21;01mwasabi\u001b[39;00m \u001b[38;5;28;01mimport\u001b[39;00m msg\n\u001b[0;32m      5\u001b[0m \u001b[38;5;28;01mfrom\u001b[39;00m \u001b[38;5;21;01m.\u001b[39;00m\u001b[38;5;21;01merrors\u001b[39;00m \u001b[38;5;28;01mimport\u001b[39;00m Errors\n\u001b[1;32m----> 6\u001b[0m \u001b[38;5;28;01mfrom\u001b[39;00m \u001b[38;5;21;01m.\u001b[39;00m\u001b[38;5;21;01mtokens\u001b[39;00m \u001b[38;5;28;01mimport\u001b[39;00m Doc, Span, Token\n\u001b[0;32m      7\u001b[0m \u001b[38;5;28;01mfrom\u001b[39;00m \u001b[38;5;21;01m.\u001b[39;00m\u001b[38;5;21;01mutil\u001b[39;00m \u001b[38;5;28;01mimport\u001b[39;00m dot_to_dict\n\u001b[0;32m      9\u001b[0m \u001b[38;5;28;01mif\u001b[39;00m TYPE_CHECKING:\n\u001b[0;32m     10\u001b[0m     \u001b[38;5;66;03m# This lets us add type hints for mypy etc. without causing circular imports\u001b[39;00m\n",
      "File \u001b[1;32m~\\anaconda3\\Lib\\site-packages\\spacy\\tokens\\__init__.py:1\u001b[0m\n\u001b[1;32m----> 1\u001b[0m \u001b[38;5;28;01mfrom\u001b[39;00m \u001b[38;5;21;01m.\u001b[39;00m\u001b[38;5;21;01m_serialize\u001b[39;00m \u001b[38;5;28;01mimport\u001b[39;00m DocBin\n\u001b[0;32m      2\u001b[0m \u001b[38;5;28;01mfrom\u001b[39;00m \u001b[38;5;21;01m.\u001b[39;00m\u001b[38;5;21;01mdoc\u001b[39;00m \u001b[38;5;28;01mimport\u001b[39;00m Doc\n\u001b[0;32m      3\u001b[0m \u001b[38;5;28;01mfrom\u001b[39;00m \u001b[38;5;21;01m.\u001b[39;00m\u001b[38;5;21;01mmorphanalysis\u001b[39;00m \u001b[38;5;28;01mimport\u001b[39;00m MorphAnalysis\n",
      "File \u001b[1;32m~\\anaconda3\\Lib\\site-packages\\spacy\\tokens\\_serialize.py:14\u001b[0m\n\u001b[0;32m     12\u001b[0m \u001b[38;5;28;01mfrom\u001b[39;00m \u001b[38;5;21;01m.\u001b[39;00m\u001b[38;5;21;01m.\u001b[39;00m\u001b[38;5;21;01merrors\u001b[39;00m \u001b[38;5;28;01mimport\u001b[39;00m Errors\n\u001b[0;32m     13\u001b[0m \u001b[38;5;28;01mfrom\u001b[39;00m \u001b[38;5;21;01m.\u001b[39;00m\u001b[38;5;21;01m.\u001b[39;00m\u001b[38;5;21;01mutil\u001b[39;00m \u001b[38;5;28;01mimport\u001b[39;00m SimpleFrozenList, ensure_path\n\u001b[1;32m---> 14\u001b[0m \u001b[38;5;28;01mfrom\u001b[39;00m \u001b[38;5;21;01m.\u001b[39;00m\u001b[38;5;21;01m.\u001b[39;00m\u001b[38;5;21;01mvocab\u001b[39;00m \u001b[38;5;28;01mimport\u001b[39;00m Vocab\n\u001b[0;32m     15\u001b[0m \u001b[38;5;28;01mfrom\u001b[39;00m \u001b[38;5;21;01m.\u001b[39;00m\u001b[38;5;21;01m_dict_proxies\u001b[39;00m \u001b[38;5;28;01mimport\u001b[39;00m SpanGroups\n\u001b[0;32m     16\u001b[0m \u001b[38;5;28;01mfrom\u001b[39;00m \u001b[38;5;21;01m.\u001b[39;00m\u001b[38;5;21;01mdoc\u001b[39;00m \u001b[38;5;28;01mimport\u001b[39;00m DOCBIN_ALL_ATTRS \u001b[38;5;28;01mas\u001b[39;00m ALL_ATTRS\n",
      "File \u001b[1;32m~\\anaconda3\\Lib\\site-packages\\spacy\\vocab.pyx:1\u001b[0m, in \u001b[0;36minit spacy.vocab\u001b[1;34m()\u001b[0m\n",
      "File \u001b[1;32m~\\anaconda3\\Lib\\site-packages\\spacy\\tokens\\doc.pyx:49\u001b[0m, in \u001b[0;36minit spacy.tokens.doc\u001b[1;34m()\u001b[0m\n",
      "File \u001b[1;32m~\\anaconda3\\Lib\\site-packages\\spacy\\schemas.py:195\u001b[0m\n\u001b[0;32m    191\u001b[0m         obj \u001b[38;5;241m=\u001b[39m converted\n\u001b[0;32m    192\u001b[0m     \u001b[38;5;28;01mreturn\u001b[39;00m validate(TokenPatternSchema, {\u001b[38;5;124m\"\u001b[39m\u001b[38;5;124mpattern\u001b[39m\u001b[38;5;124m\"\u001b[39m: obj})\n\u001b[1;32m--> 195\u001b[0m \u001b[38;5;28;01mclass\u001b[39;00m \u001b[38;5;21;01mTokenPatternString\u001b[39;00m(BaseModel):\n\u001b[0;32m    196\u001b[0m     REGEX: Optional[Union[StrictStr, \u001b[38;5;124m\"\u001b[39m\u001b[38;5;124mTokenPatternString\u001b[39m\u001b[38;5;124m\"\u001b[39m]] \u001b[38;5;241m=\u001b[39m Field(\u001b[38;5;28;01mNone\u001b[39;00m, alias\u001b[38;5;241m=\u001b[39m\u001b[38;5;124m\"\u001b[39m\u001b[38;5;124mregex\u001b[39m\u001b[38;5;124m\"\u001b[39m)\n\u001b[0;32m    197\u001b[0m     IN: Optional[List[StrictStr]] \u001b[38;5;241m=\u001b[39m Field(\u001b[38;5;28;01mNone\u001b[39;00m, alias\u001b[38;5;241m=\u001b[39m\u001b[38;5;124m\"\u001b[39m\u001b[38;5;124min\u001b[39m\u001b[38;5;124m\"\u001b[39m)\n",
      "File \u001b[1;32m~\\anaconda3\\Lib\\site-packages\\pydantic\\v1\\main.py:286\u001b[0m, in \u001b[0;36mModelMetaclass.__new__\u001b[1;34m(mcs, name, bases, namespace, **kwargs)\u001b[0m\n\u001b[0;32m    284\u001b[0m \u001b[38;5;28mcls\u001b[39m\u001b[38;5;241m.\u001b[39m__signature__ \u001b[38;5;241m=\u001b[39m ClassAttribute(\u001b[38;5;124m'\u001b[39m\u001b[38;5;124m__signature__\u001b[39m\u001b[38;5;124m'\u001b[39m, generate_model_signature(\u001b[38;5;28mcls\u001b[39m\u001b[38;5;241m.\u001b[39m\u001b[38;5;21m__init__\u001b[39m, fields, config))\n\u001b[0;32m    285\u001b[0m \u001b[38;5;28;01mif\u001b[39;00m resolve_forward_refs:\n\u001b[1;32m--> 286\u001b[0m     \u001b[38;5;28mcls\u001b[39m\u001b[38;5;241m.\u001b[39m__try_update_forward_refs__()\n\u001b[0;32m    288\u001b[0m \u001b[38;5;66;03m# preserve `__set_name__` protocol defined in https://peps.python.org/pep-0487\u001b[39;00m\n\u001b[0;32m    289\u001b[0m \u001b[38;5;66;03m# for attributes not in `new_namespace` (e.g. private attributes)\u001b[39;00m\n\u001b[0;32m    290\u001b[0m \u001b[38;5;28;01mfor\u001b[39;00m name, obj \u001b[38;5;129;01min\u001b[39;00m namespace\u001b[38;5;241m.\u001b[39mitems():\n",
      "File \u001b[1;32m~\\anaconda3\\Lib\\site-packages\\pydantic\\v1\\main.py:808\u001b[0m, in \u001b[0;36mBaseModel.__try_update_forward_refs__\u001b[1;34m(cls, **localns)\u001b[0m\n\u001b[0;32m    802\u001b[0m \u001b[38;5;129m@classmethod\u001b[39m\n\u001b[0;32m    803\u001b[0m \u001b[38;5;28;01mdef\u001b[39;00m \u001b[38;5;21m__try_update_forward_refs__\u001b[39m(\u001b[38;5;28mcls\u001b[39m, \u001b[38;5;241m*\u001b[39m\u001b[38;5;241m*\u001b[39mlocalns: Any) \u001b[38;5;241m-\u001b[39m\u001b[38;5;241m>\u001b[39m \u001b[38;5;28;01mNone\u001b[39;00m:\n\u001b[0;32m    804\u001b[0m \u001b[38;5;250m    \u001b[39m\u001b[38;5;124;03m\"\"\"\u001b[39;00m\n\u001b[0;32m    805\u001b[0m \u001b[38;5;124;03m    Same as update_forward_refs but will not raise exception\u001b[39;00m\n\u001b[0;32m    806\u001b[0m \u001b[38;5;124;03m    when forward references are not defined.\u001b[39;00m\n\u001b[0;32m    807\u001b[0m \u001b[38;5;124;03m    \"\"\"\u001b[39;00m\n\u001b[1;32m--> 808\u001b[0m     update_model_forward_refs(\u001b[38;5;28mcls\u001b[39m, \u001b[38;5;28mcls\u001b[39m\u001b[38;5;241m.\u001b[39m__fields__\u001b[38;5;241m.\u001b[39mvalues(), \u001b[38;5;28mcls\u001b[39m\u001b[38;5;241m.\u001b[39m__config__\u001b[38;5;241m.\u001b[39mjson_encoders, localns, (\u001b[38;5;167;01mNameError\u001b[39;00m,))\n",
      "File \u001b[1;32m~\\anaconda3\\Lib\\site-packages\\pydantic\\v1\\typing.py:554\u001b[0m, in \u001b[0;36mupdate_model_forward_refs\u001b[1;34m(model, fields, json_encoders, localns, exc_to_suppress)\u001b[0m\n\u001b[0;32m    552\u001b[0m \u001b[38;5;28;01mfor\u001b[39;00m f \u001b[38;5;129;01min\u001b[39;00m fields:\n\u001b[0;32m    553\u001b[0m     \u001b[38;5;28;01mtry\u001b[39;00m:\n\u001b[1;32m--> 554\u001b[0m         update_field_forward_refs(f, globalns\u001b[38;5;241m=\u001b[39mglobalns, localns\u001b[38;5;241m=\u001b[39mlocalns)\n\u001b[0;32m    555\u001b[0m     \u001b[38;5;28;01mexcept\u001b[39;00m exc_to_suppress:\n\u001b[0;32m    556\u001b[0m         \u001b[38;5;28;01mpass\u001b[39;00m\n",
      "File \u001b[1;32m~\\anaconda3\\Lib\\site-packages\\pydantic\\v1\\typing.py:529\u001b[0m, in \u001b[0;36mupdate_field_forward_refs\u001b[1;34m(field, globalns, localns)\u001b[0m\n\u001b[0;32m    527\u001b[0m \u001b[38;5;28;01mif\u001b[39;00m field\u001b[38;5;241m.\u001b[39msub_fields:\n\u001b[0;32m    528\u001b[0m     \u001b[38;5;28;01mfor\u001b[39;00m sub_f \u001b[38;5;129;01min\u001b[39;00m field\u001b[38;5;241m.\u001b[39msub_fields:\n\u001b[1;32m--> 529\u001b[0m         update_field_forward_refs(sub_f, globalns\u001b[38;5;241m=\u001b[39mglobalns, localns\u001b[38;5;241m=\u001b[39mlocalns)\n\u001b[0;32m    531\u001b[0m \u001b[38;5;28;01mif\u001b[39;00m field\u001b[38;5;241m.\u001b[39mdiscriminator_key \u001b[38;5;129;01mis\u001b[39;00m \u001b[38;5;129;01mnot\u001b[39;00m \u001b[38;5;28;01mNone\u001b[39;00m:\n\u001b[0;32m    532\u001b[0m     field\u001b[38;5;241m.\u001b[39mprepare_discriminated_union_sub_fields()\n",
      "File \u001b[1;32m~\\anaconda3\\Lib\\site-packages\\pydantic\\v1\\typing.py:520\u001b[0m, in \u001b[0;36mupdate_field_forward_refs\u001b[1;34m(field, globalns, localns)\u001b[0m\n\u001b[0;32m    518\u001b[0m \u001b[38;5;28;01mif\u001b[39;00m field\u001b[38;5;241m.\u001b[39mtype_\u001b[38;5;241m.\u001b[39m\u001b[38;5;18m__class__\u001b[39m \u001b[38;5;241m==\u001b[39m ForwardRef:\n\u001b[0;32m    519\u001b[0m     prepare \u001b[38;5;241m=\u001b[39m \u001b[38;5;28;01mTrue\u001b[39;00m\n\u001b[1;32m--> 520\u001b[0m     field\u001b[38;5;241m.\u001b[39mtype_ \u001b[38;5;241m=\u001b[39m evaluate_forwardref(field\u001b[38;5;241m.\u001b[39mtype_, globalns, localns \u001b[38;5;129;01mor\u001b[39;00m \u001b[38;5;28;01mNone\u001b[39;00m)\n\u001b[0;32m    521\u001b[0m \u001b[38;5;28;01mif\u001b[39;00m field\u001b[38;5;241m.\u001b[39mouter_type_\u001b[38;5;241m.\u001b[39m\u001b[38;5;18m__class__\u001b[39m \u001b[38;5;241m==\u001b[39m ForwardRef:\n\u001b[0;32m    522\u001b[0m     prepare \u001b[38;5;241m=\u001b[39m \u001b[38;5;28;01mTrue\u001b[39;00m\n",
      "File \u001b[1;32m~\\anaconda3\\Lib\\site-packages\\pydantic\\v1\\typing.py:66\u001b[0m, in \u001b[0;36mevaluate_forwardref\u001b[1;34m(type_, globalns, localns)\u001b[0m\n\u001b[0;32m     63\u001b[0m \u001b[38;5;28;01mdef\u001b[39;00m \u001b[38;5;21mevaluate_forwardref\u001b[39m(type_: ForwardRef, globalns: Any, localns: Any) \u001b[38;5;241m-\u001b[39m\u001b[38;5;241m>\u001b[39m Any:\n\u001b[0;32m     64\u001b[0m     \u001b[38;5;66;03m# Even though it is the right signature for python 3.9, mypy complains with\u001b[39;00m\n\u001b[0;32m     65\u001b[0m     \u001b[38;5;66;03m# `error: Too many arguments for \"_evaluate\" of \"ForwardRef\"` hence the cast...\u001b[39;00m\n\u001b[1;32m---> 66\u001b[0m     \u001b[38;5;28;01mreturn\u001b[39;00m cast(Any, type_)\u001b[38;5;241m.\u001b[39m_evaluate(globalns, localns, \u001b[38;5;28mset\u001b[39m())\n",
      "\u001b[1;31mTypeError\u001b[0m: ForwardRef._evaluate() missing 1 required keyword-only argument: 'recursive_guard'"
     ]
    }
   ],
   "source": [
    "import spacy"
   ]
  },
  {
   "cell_type": "code",
   "execution_count": null,
   "id": "33346767-e1e8-471f-ae4e-3a0d3268c71c",
   "metadata": {},
   "outputs": [],
   "source": [
    "nlp = spacy.load(\"en_core_web_sm\")"
   ]
  },
  {
   "cell_type": "code",
   "execution_count": null,
   "id": "b5c7cef1-2789-4140-b712-a38f05ab5e61",
   "metadata": {},
   "outputs": [],
   "source": [
    "df['sentences']"
   ]
  },
  {
   "cell_type": "code",
   "execution_count": 13,
   "id": "a90d8327-f233-4389-8496-008165fd17eb",
   "metadata": {},
   "outputs": [
    {
     "ename": "SyntaxError",
     "evalue": "(unicode error) 'unicodeescape' codec can't decode bytes in position 2-3: truncated \\UXXXXXXXX escape (648503649.py, line 9)",
     "output_type": "error",
     "traceback": [
      "\u001b[1;36m  Cell \u001b[1;32mIn[13], line 9\u001b[1;36m\u001b[0m\n\u001b[1;33m    df = pd.read_csv(\"C:\\Users\\pm307\\Downloads\\0000.parquet\")\u001b[0m\n\u001b[1;37m                     ^\u001b[0m\n\u001b[1;31mSyntaxError\u001b[0m\u001b[1;31m:\u001b[0m (unicode error) 'unicodeescape' codec can't decode bytes in position 2-3: truncated \\UXXXXXXXX escape\n"
     ]
    }
   ],
   "source": [
    "import pandas as pd\n",
    "import re\n",
    "import nltk\n",
    "from nltk.corpus import stopwords\n",
    "from nltk.tokenize import sent_tokenize, word_tokenize\n",
    "from nltk.stem import WordNetLemmatizer\n",
    "\n",
    "# Load dataset\n",
    "df = pd.read_csv(r\"C:\\Users\\pm307\\Downloads\\0000.parquet\")\n",
    "\n",
    "# Function to clean text\n",
    "def clean_text(text):\n",
    "    text = re.sub(r'\\W', ' ', text)\n",
    "    text = re.sub(r'\\d', '', text)\n",
    "    text = text.strip().lower()\n",
    "    return text\n",
    "\n",
    "# Clean text column\n",
    "df['cleaned_text'] = df['text_column'].apply(clean_text)\n",
    "\n",
    "# Tokenize sentences and words\n",
    "df['sentences'] = df['cleaned_text'].apply(sent_tokenize)\n",
    "df['words'] = df['cleaned_text'].apply(word_tokenize)\n",
    "\n",
    "# Remove stopwords\n",
    "stop_words = set(stopwords.words('english'))\n",
    "df['words'] = df['words'].apply(lambda words: [word for word in words if word not in stop_words])\n",
    "\n",
    "# Lemmatization\n",
    "lemmatizer = WordNetLemmatizer()\n",
    "df['words'] = df['words'].apply(lambda words: [lemmatizer.lemmatize(word) for word in words])\n",
    "\n",
    "print(df[['cleaned_text', 'sentences', 'words']])"
   ]
  },
  {
   "cell_type": "code",
   "execution_count": 1,
   "id": "53709b9a-665c-4ded-9eb9-6027a2f47f52",
   "metadata": {},
   "outputs": [
    {
     "name": "stdout",
     "output_type": "stream",
     "text": [
      "Requirement already satisfied: pandas in c:\\users\\pm307\\anaconda3\\lib\\site-packages (2.2.2)Note: you may need to restart the kernel to use updated packages.\n",
      "\n",
      "Requirement already satisfied: nltk in c:\\users\\pm307\\anaconda3\\lib\\site-packages (3.8.1)\n",
      "Requirement already satisfied: numpy>=1.26.0 in c:\\users\\pm307\\anaconda3\\lib\\site-packages (from pandas) (1.26.4)\n",
      "Requirement already satisfied: python-dateutil>=2.8.2 in c:\\users\\pm307\\anaconda3\\lib\\site-packages (from pandas) (2.9.0.post0)\n",
      "Requirement already satisfied: pytz>=2020.1 in c:\\users\\pm307\\anaconda3\\lib\\site-packages (from pandas) (2024.1)\n",
      "Requirement already satisfied: tzdata>=2022.7 in c:\\users\\pm307\\anaconda3\\lib\\site-packages (from pandas) (2023.3)\n",
      "Requirement already satisfied: click in c:\\users\\pm307\\anaconda3\\lib\\site-packages (from nltk) (8.1.7)\n",
      "Requirement already satisfied: joblib in c:\\users\\pm307\\anaconda3\\lib\\site-packages (from nltk) (1.4.2)\n",
      "Requirement already satisfied: regex>=2021.8.3 in c:\\users\\pm307\\anaconda3\\lib\\site-packages (from nltk) (2023.10.3)\n",
      "Requirement already satisfied: tqdm in c:\\users\\pm307\\anaconda3\\lib\\site-packages (from nltk) (4.66.4)\n",
      "Requirement already satisfied: six>=1.5 in c:\\users\\pm307\\anaconda3\\lib\\site-packages (from python-dateutil>=2.8.2->pandas) (1.16.0)\n",
      "Requirement already satisfied: colorama in c:\\users\\pm307\\anaconda3\\lib\\site-packages (from click->nltk) (0.4.6)\n"
     ]
    }
   ],
   "source": [
    "pip install pandas nltk\n"
   ]
  },
  {
   "cell_type": "code",
   "execution_count": 7,
   "id": "733c2bb7-f7de-4a39-9683-1dba9562b38d",
   "metadata": {},
   "outputs": [
    {
     "name": "stdout",
     "output_type": "stream",
     "text": [
      "Requirement already satisfied: nltk in c:\\users\\pm307\\anaconda3\\lib\\site-packages (3.8.1)\n",
      "Requirement already satisfied: click in c:\\users\\pm307\\anaconda3\\lib\\site-packages (from nltk) (8.1.7)\n",
      "Requirement already satisfied: joblib in c:\\users\\pm307\\anaconda3\\lib\\site-packages (from nltk) (1.4.2)\n",
      "Requirement already satisfied: regex>=2021.8.3 in c:\\users\\pm307\\anaconda3\\lib\\site-packages (from nltk) (2023.10.3)\n",
      "Requirement already satisfied: tqdm in c:\\users\\pm307\\anaconda3\\lib\\site-packages (from nltk) (4.66.4)\n",
      "Requirement already satisfied: colorama in c:\\users\\pm307\\anaconda3\\lib\\site-packages (from click->nltk) (0.4.6)\n",
      "Note: you may need to restart the kernel to use updated packages.\n"
     ]
    }
   ],
   "source": [
    "pip install nltk\n"
   ]
  },
  {
   "cell_type": "code",
   "execution_count": 9,
   "id": "61775eeb-acf0-432e-bfc6-b2b493392439",
   "metadata": {},
   "outputs": [
    {
     "name": "stderr",
     "output_type": "stream",
     "text": [
      "[nltk_data] Downloading package punkt to\n",
      "[nltk_data]     C:\\Users\\pm307\\AppData\\Roaming\\nltk_data...\n",
      "[nltk_data]   Package punkt is already up-to-date!\n",
      "[nltk_data] Downloading package stopwords to\n",
      "[nltk_data]     C:\\Users\\pm307\\AppData\\Roaming\\nltk_data...\n",
      "[nltk_data]   Unzipping corpora\\stopwords.zip.\n",
      "[nltk_data] Downloading package wordnet to\n",
      "[nltk_data]     C:\\Users\\pm307\\AppData\\Roaming\\nltk_data...\n"
     ]
    },
    {
     "data": {
      "text/plain": [
       "True"
      ]
     },
     "execution_count": 9,
     "metadata": {},
     "output_type": "execute_result"
    }
   ],
   "source": [
    "import nltk\n",
    "nltk.download('punkt')\n",
    "nltk.download('stopwords')\n",
    "nltk.download('wordnet')\n"
   ]
  },
  {
   "cell_type": "code",
   "execution_count": null,
   "id": "986988c5-2c98-4f72-91fc-d312a3b1eafb",
   "metadata": {},
   "outputs": [],
   "source": []
  }
 ],
 "metadata": {
  "kernelspec": {
   "display_name": "Python 3 (ipykernel)",
   "language": "python",
   "name": "python3"
  },
  "language_info": {
   "codemirror_mode": {
    "name": "ipython",
    "version": 3
   },
   "file_extension": ".py",
   "mimetype": "text/x-python",
   "name": "python",
   "nbconvert_exporter": "python",
   "pygments_lexer": "ipython3",
   "version": "3.12.4"
  }
 },
 "nbformat": 4,
 "nbformat_minor": 5
}
